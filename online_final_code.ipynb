{
 "cells": [
  {
   "cell_type": "markdown",
   "metadata": {},
   "source": [
    "# 1. 데이터 & 라이브러리 불러오기"
   ]
  },
  {
   "cell_type": "code",
   "execution_count": 1,
   "metadata": {},
   "outputs": [],
   "source": [
    "from catboost import CatBoostClassifier, Pool\n",
    "from sklearn.metrics import (\n",
    "    accuracy_score,\n",
    "    precision_score,\n",
    "    recall_score,\n",
    "    f1_score,\n",
    "    confusion_matrix,\n",
    "    roc_auc_score,\n",
    ")\n",
    "import optuna\n",
    "\n",
    "import os\n",
    "from pprint import pprint\n",
    "import numpy as np\n",
    "import pandas as pd\n",
    "import matplotlib.pyplot as plt\n",
    "from tqdm import tqdm\n",
    "from sklearn.ensemble import VotingClassifier\n",
    "from catboost import CatBoostClassifier, Pool\n",
    "from sklearn.model_selection import train_test_split, cross_val_score, StratifiedKFold\n",
    "from sklearn.metrics import (\n",
    "    accuracy_score,\n",
    "    precision_score,\n",
    "    recall_score,\n",
    "    f1_score,\n",
    "    confusion_matrix,\n",
    ")\n",
    "import warnings\n",
    "\n",
    "warnings.filterwarnings(\"ignore\")\n",
    "pd.set_option(\"display.max_columns\", 100)\n",
    "pd.set_option(\"display.max_rows\", 100)\n",
    "\n",
    "import pandas as pd\n",
    "import numpy as np\n",
    "\n",
    "from sklearn.preprocessing import OrdinalEncoder\n",
    "from sklearn.ensemble import ExtraTreesClassifier"
   ]
  },
  {
   "cell_type": "code",
   "execution_count": 2,
   "metadata": {},
   "outputs": [],
   "source": [
    "train = pd.read_csv(\"dataset/train.csv\").drop(columns=[\"ID\"])\n",
    "test = pd.read_csv(\"dataset/test.csv\").drop(columns=[\"ID\"])"
   ]
  },
  {
   "cell_type": "code",
   "execution_count": 3,
   "metadata": {},
   "outputs": [],
   "source": [
    "train_data = train.copy()\n",
    "test_data = test.copy()"
   ]
  },
  {
   "cell_type": "markdown",
   "metadata": {},
   "source": [
    "# 2. 데이터 전처리 - 1"
   ]
  },
  {
   "cell_type": "markdown",
   "metadata": {},
   "source": [
    "### 특정 시술 유형 재범주화"
   ]
  },
  {
   "cell_type": "code",
   "execution_count": 4,
   "metadata": {},
   "outputs": [
    {
     "data": {
      "text/plain": [
       "특정 시술 유형    object\n",
       "dtype: object"
      ]
     },
     "execution_count": 4,
     "metadata": {},
     "output_type": "execute_result"
    }
   ],
   "source": [
    "train_data[['특정 시술 유형']].dtypes"
   ]
  },
  {
   "cell_type": "code",
   "execution_count": 5,
   "metadata": {},
   "outputs": [],
   "source": [
    "def categorize_procedure(procedure):\n",
    "    if isinstance(procedure, str):\n",
    "        if \"ICSI\" in procedure:\n",
    "            return \"ICSI\"\n",
    "        elif \"IVF\" in procedure:\n",
    "            return \"IVF\"\n",
    "        elif \"IUI\" in procedure:\n",
    "            return \"IUI\"\n",
    "        else:\n",
    "            return \"Other\"\n",
    "    else:\n",
    "        return \"Unknown\"\n",
    "\n",
    "train_data[\"시술_카테고리\"] = train_data[\"특정 시술 유형\"].apply(categorize_procedure)\n",
    "test_data[\"시술_카테고리\"] = test_data[\"특정 시술 유형\"].apply(categorize_procedure)"
   ]
  },
  {
   "cell_type": "code",
   "execution_count": 6,
   "metadata": {},
   "outputs": [
    {
     "data": {
      "text/plain": [
       "시술_카테고리\n",
       "ICSI       128547\n",
       "IVF         94568\n",
       "Other       27134\n",
       "IUI          6100\n",
       "Unknown         2\n",
       "Name: count, dtype: int64"
      ]
     },
     "execution_count": 6,
     "metadata": {},
     "output_type": "execute_result"
    }
   ],
   "source": [
    "train_data[['시술_카테고리']].value_counts()"
   ]
  },
  {
   "cell_type": "markdown",
   "metadata": {},
   "source": [
    "### 시술 복합 여부 변수"
   ]
  },
  {
   "cell_type": "code",
   "execution_count": 7,
   "metadata": {},
   "outputs": [],
   "source": [
    "train_data[\"시술_복합여부\"] = train_data[\"특정 시술 유형\"].fillna(\"Unknown\").apply(lambda x: 1 if \"/\" in x else 0)\n",
    "test_data[\"시술_복합여부\"] = test_data[\"특정 시술 유형\"].fillna(\"Unknown\").apply(lambda x: 1 if \"/\" in x else 0)"
   ]
  },
  {
   "cell_type": "code",
   "execution_count": 8,
   "metadata": {},
   "outputs": [
    {
     "data": {
      "text/plain": [
       "시술_복합여부\n",
       "0          252391\n",
       "1            3960\n",
       "Name: count, dtype: int64"
      ]
     },
     "execution_count": 8,
     "metadata": {},
     "output_type": "execute_result"
    }
   ],
   "source": [
    "train_data[['시술_복합여부']].value_counts()"
   ]
  },
  {
   "cell_type": "markdown",
   "metadata": {},
   "source": [
    "### 시술 성공률 변수"
   ]
  },
  {
   "cell_type": "code",
   "execution_count": 9,
   "metadata": {},
   "outputs": [],
   "source": [
    "# 시술 유형별 성공률 계산\n",
    "success_rates = train_data.groupby(\"특정 시술 유형\")[\"임신 성공 여부\"].mean()\n",
    "\n",
    "# 기존 데이터에 성공률 변수 추가\n",
    "train_data[\"시술_성공률\"] = train_data[\"특정 시술 유형\"].map(success_rates)\n",
    "test_data[\"시술_성공률\"] = test_data[\"특정 시술 유형\"].map(success_rates)"
   ]
  },
  {
   "cell_type": "code",
   "execution_count": 10,
   "metadata": {},
   "outputs": [],
   "source": [
    "train_data = train_data.drop(columns = \"특정 시술 유형\")\n",
    "test_data = test_data.drop(columns = \"특정 시술 유형\")"
   ]
  },
  {
   "cell_type": "markdown",
   "metadata": {},
   "source": [
    "### 주/부 불임 원인 줄이기"
   ]
  },
  {
   "cell_type": "code",
   "execution_count": 11,
   "metadata": {},
   "outputs": [],
   "source": [
    "train_data[\"남성_불임_유무\"] = train_data[[\"남성 주 불임 원인\", \"남성 부 불임 원인\"]].max(axis=1)\n",
    "train_data[\"여성_불임_유무\"] = train_data[[\"여성 주 불임 원인\", \"여성 부 불임 원인\"]].max(axis=1)\n",
    "train_data[\"부부_불임_유무\"] = train_data[[\"부부 주 불임 원인\", \"부부 부 불임 원인\"]].max(axis=1)\n",
    "train_data[\"불임_조합\"] = (\n",
    "    train_data[\"남성_불임_유무\"].astype(str) + \"_\" +\n",
    "    train_data[\"여성_불임_유무\"].astype(str)\n",
    ")\n",
    "\n",
    "test_data[\"남성_불임_유무\"] = test_data[[\"남성 주 불임 원인\", \"남성 부 불임 원인\"]].max(axis=1)\n",
    "test_data[\"여성_불임_유무\"] = test_data[[\"여성 주 불임 원인\", \"여성 부 불임 원인\"]].max(axis=1)\n",
    "test_data[\"부부_불임_유무\"] = test_data[[\"부부 주 불임 원인\", \"부부 부 불임 원인\"]].max(axis=1)\n",
    "test_data[\"불임_조합\"] = (\n",
    "    test_data[\"남성_불임_유무\"].astype(str) + \"_\" +\n",
    "    test_data[\"여성_불임_유무\"].astype(str)\n",
    ")"
   ]
  },
  {
   "cell_type": "code",
   "execution_count": 12,
   "metadata": {},
   "outputs": [],
   "source": [
    "주부불임원인 = [col for col in train_data.columns if \"주 불임 원인\" in col or \"부 불임 원인\" in col]\n",
    "train_data = train_data.drop(columns=주부불임원인)\n",
    "test_data = test_data.drop(columns=주부불임원인)"
   ]
  },
  {
   "cell_type": "markdown",
   "metadata": {},
   "source": [
    "### 불임원인"
   ]
  },
  {
   "cell_type": "code",
   "execution_count": 13,
   "metadata": {},
   "outputs": [],
   "source": [
    "train_data[\"배란장애_여부\"] = train_data[\"불임 원인 - 배란 장애\"]\n",
    "train_data[\"정자_문제_여부\"] = train_data[[\"불임 원인 - 정자 농도\", \"불임 원인 - 정자 면역학적 요인\", \"불임 원인 - 정자 운동성\", \"불임 원인 - 정자 형태\"]].max(axis=1)\n",
    "train_data[\"자궁_문제_여부\"] = train_data[[\"불임 원인 - 자궁경부 문제\", \"불임 원인 - 자궁내막증\"]].max(axis=1)\n",
    "train_data[\"난관_문제_여부\"] = train_data[\"불임 원인 - 난관 질환\"]\n",
    "\n",
    "test_data[\"배란장애_여부\"] = test_data[\"불임 원인 - 배란 장애\"]\n",
    "test_data[\"정자_문제_여부\"] = test_data[[\"불임 원인 - 정자 농도\", \"불임 원인 - 정자 면역학적 요인\", \"불임 원인 - 정자 운동성\", \"불임 원인 - 정자 형태\"]].max(axis=1)\n",
    "test_data[\"자궁_문제_여부\"] = test_data[[\"불임 원인 - 자궁경부 문제\", \"불임 원인 - 자궁내막증\"]].max(axis=1)\n",
    "test_data[\"난관_문제_여부\"] = test_data[\"불임 원인 - 난관 질환\"]"
   ]
  },
  {
   "cell_type": "code",
   "execution_count": 14,
   "metadata": {},
   "outputs": [],
   "source": [
    "불임원인질환 = [col for col in train_data.columns if \"불임 원인 -\" in col]\n",
    "train_data = train_data.drop(columns = 불임원인질환)\n",
    "test_data = test_data.drop(columns = 불임원인질환)"
   ]
  },
  {
   "cell_type": "markdown",
   "metadata": {},
   "source": [
    "### 배란 유도 유형"
   ]
  },
  {
   "cell_type": "code",
   "execution_count": 15,
   "metadata": {},
   "outputs": [],
   "source": [
    "def 배란유도유형(procedure):\n",
    "    if isinstance(procedure, str):\n",
    "        if \"생식선 자극 호르몬\" in procedure:\n",
    "            return \"생식선 자극 호르몬\"\n",
    "        elif \"세트로타이드 (억제제)\" in procedure:\n",
    "            return \"세트로타이드 (억제제)\"\n",
    "        else:\n",
    "            return \"Unknown\"\n",
    "    else:\n",
    "        return \"Unknown\"\n",
    "\n",
    "train_data[\"배란유도유형\"] = train_data[\"배란 유도 유형\"].apply(배란유도유형)\n",
    "test_data[\"배란유도유형\"] = test_data[\"배란 유도 유형\"].apply(배란유도유형)"
   ]
  },
  {
   "cell_type": "code",
   "execution_count": 16,
   "metadata": {},
   "outputs": [],
   "source": [
    "train_data = train_data.drop(columns = \"배란 유도 유형\")\n",
    "test_data = test_data.drop(columns = \"배란 유도 유형\")"
   ]
  },
  {
   "cell_type": "markdown",
   "metadata": {},
   "source": [
    "### 배아 생성 주요 이유 -> 원핫인코딩화"
   ]
  },
  {
   "cell_type": "code",
   "execution_count": 17,
   "metadata": {},
   "outputs": [],
   "source": [
    "def 배아생성주요이유(df):\n",
    "    # NaN 값을 \"Unknown\"으로 대체\n",
    "    df[\"배아 생성 주요 이유\"] = df[\"배아 생성 주요 이유\"].fillna(\"Unknown\")\n",
    "\n",
    "    # 1️⃣ 배아 생성 이유를 리스트로 변환\n",
    "    df[\"배아 생성 이유 리스트\"] = df[\"배아 생성 주요 이유\"].apply(lambda x: x.split(\", \") if x != \"Unknown\" else [\"Unknown\"])\n",
    "\n",
    "    # 2️⃣ 고유한 배아 생성 이유 추출\n",
    "    unique_reasons = set()\n",
    "    df[\"배아 생성 이유 리스트\"].apply(lambda x: unique_reasons.update(x))\n",
    "\n",
    "    # 3️⃣ 각 배아 생성 이유에 대한 원-핫 인코딩 변수 생성\n",
    "    for reason in unique_reasons:\n",
    "        df[f\"배아_이유_{reason}\"] = df[\"배아 생성 이유 리스트\"].apply(lambda x: 1 if reason in x else 0)\n",
    "\n",
    "    # 불필요한 컬럼 제거\n",
    "    if \"배아_이유_연구용\" in df.columns:\n",
    "        df.drop(columns=[\"배아 생성 이유 리스트\", \"배아 생성 주요 이유\", \"배아_이유_연구용\"], inplace=True)\n",
    "    else:\n",
    "        df.drop(columns=[\"배아 생성 이유 리스트\", \"배아 생성 주요 이유\"], inplace=True)\n",
    "    return df"
   ]
  },
  {
   "cell_type": "code",
   "execution_count": 18,
   "metadata": {},
   "outputs": [],
   "source": [
    "train_data = 배아생성주요이유(train_data)\n",
    "test_data = 배아생성주요이유(test_data)"
   ]
  },
  {
   "cell_type": "markdown",
   "metadata": {},
   "source": [
    "### 배아 저장 비율"
   ]
  },
  {
   "cell_type": "code",
   "execution_count": 19,
   "metadata": {},
   "outputs": [],
   "source": [
    "train_data[\"배아_저장_비율\"] = train_data[\"저장된 배아 수\"] / train_data[\"총 생성 배아 수\"]\n",
    "test_data[\"배아_저장_비율\"] = test_data[\"저장된 배아 수\"] / test_data[\"총 생성 배아 수\"]"
   ]
  },
  {
   "cell_type": "markdown",
   "metadata": {},
   "source": [
    "### 연속형으로"
   ]
  },
  {
   "cell_type": "code",
   "execution_count": 20,
   "metadata": {},
   "outputs": [],
   "source": [
    "col_to_convert = ['IVF 시술 횟수', 'IVF 임신 횟수', 'IVF 출산 횟수', 'DI 시술 횟수', 'DI 임신 횟수', 'DI 출산 횟수', '총 임신 횟수', '총 출산 횟수', '총 시술 횟수']\n",
    "\n",
    "for col in col_to_convert:\n",
    "    train_data[col] = train_data[col].replace(\"6회 이상\", \"7\")\n",
    "    train_data[col] = train_data[col].astype(str).str[0].astype(int)"
   ]
  },
  {
   "cell_type": "code",
   "execution_count": 45,
   "metadata": {},
   "outputs": [],
   "source": [
    "for col in col_to_convert:\n",
    "    test_data[col] = test_data[col].replace(\"6회 이상\", \"7\")\n",
    "    test_data[col] = test_data[col].astype(str).str[0].astype(int)"
   ]
  },
  {
   "cell_type": "markdown",
   "metadata": {},
   "source": [
    "## 컬럼 지정"
   ]
  },
  {
   "cell_type": "code",
   "execution_count": null,
   "metadata": {},
   "outputs": [],
   "source": [
    "Top 10 Feature Importances:\n",
    "Feature: 이식된 배아 수, Importance: 36.2623, Unique Values: 4\n",
    "Feature: 배아 이식 경과일, Importance: 19.9380, Unique Values: 9\n",
    "Feature: 시술 당시 나이, Importance: 6.8832, Unique Values: 7\n",
    "Feature: 난자 채취 경과일, Importance: 5.1645, Unique Values: 1\n",
    "Feature: 배아_저장_비율, Importance: 2.8436, Unique Values: 305\n",
    "Feature: 총 생성 배아 수, Importance: 2.8407, Unique Values: 44\n",
    "Feature: 저장된 배아 수, Importance: 2.2780, Unique Values: 41\n",
    "Feature: 수집된 신선 난자 수, Importance: 1.8074, Unique Values: 52\n",
    "Feature: 시술 시기 코드, Importance: 1.5020, Unique Values: 7\n",
    "Feature: 난자 출처, Importance: 1.4110, Unique Values: 3"
   ]
  },
  {
   "cell_type": "code",
   "execution_count": 56,
   "metadata": {},
   "outputs": [],
   "source": [
    "numerical_cols = [\n",
    " #'임신 시도 또는 마지막 임신 경과 연수',\n",
    " '총 생성 배아 수',\n",
    " '미세주입된 난자 수',\n",
    " '미세주입에서 생성된 배아 수',\n",
    " '이식된 배아 수',\n",
    " '미세주입 배아 이식 수',\n",
    " '저장된 배아 수',\n",
    " '미세주입 후 저장된 배아 수',\n",
    " '해동된 배아 수',\n",
    " '해동 난자 수',\n",
    " '수집된 신선 난자 수',\n",
    " '저장된 신선 난자 수',\n",
    " '혼합된 난자 수',\n",
    " '파트너 정자와 혼합된 난자 수',\n",
    " '기증자 정자와 혼합된 난자 수',\n",
    " '난자 채취 경과일',\n",
    " '난자 해동 경과일',\n",
    " '난자 혼합 경과일',\n",
    " #'배아 이식 경과일',   # 범주형으로 빼는 게 나을 것 같아서..\n",
    " '배아 해동 경과일',\n",
    " '시술_성공률',  # 추가해본 변수\n",
    " '배아_저장_비율' # 추가해본 변수\n",
    " ]\n",
    "for col in col_to_convert:\n",
    "    numerical_cols.append(col)\n",
    "categorical_cols = list(\n",
    "    set(train_data.columns) - set(numerical_cols) - set([\"임신 성공 여부\"])\n",
    ")"
   ]
  },
  {
   "cell_type": "code",
   "execution_count": 57,
   "metadata": {},
   "outputs": [
    {
     "data": {
      "text/plain": [
       "['총 생성 배아 수',\n",
       " '미세주입된 난자 수',\n",
       " '미세주입에서 생성된 배아 수',\n",
       " '이식된 배아 수',\n",
       " '미세주입 배아 이식 수',\n",
       " '저장된 배아 수',\n",
       " '미세주입 후 저장된 배아 수',\n",
       " '해동된 배아 수',\n",
       " '해동 난자 수',\n",
       " '수집된 신선 난자 수',\n",
       " '저장된 신선 난자 수',\n",
       " '혼합된 난자 수',\n",
       " '파트너 정자와 혼합된 난자 수',\n",
       " '기증자 정자와 혼합된 난자 수',\n",
       " '난자 채취 경과일',\n",
       " '난자 해동 경과일',\n",
       " '난자 혼합 경과일',\n",
       " '배아 해동 경과일',\n",
       " '시술_성공률',\n",
       " '배아_저장_비율',\n",
       " 'IVF 시술 횟수',\n",
       " 'IVF 임신 횟수',\n",
       " 'IVF 출산 횟수',\n",
       " 'DI 시술 횟수',\n",
       " 'DI 임신 횟수',\n",
       " 'DI 출산 횟수',\n",
       " '총 임신 횟수',\n",
       " '총 출산 횟수',\n",
       " '총 시술 횟수']"
      ]
     },
     "execution_count": 57,
     "metadata": {},
     "output_type": "execute_result"
    }
   ],
   "source": [
    "numerical_cols"
   ]
  },
  {
   "cell_type": "code",
   "execution_count": 58,
   "metadata": {},
   "outputs": [],
   "source": [
    "# train, test 모두 categorical은 str로 변경\n",
    "train_data[categorical_cols] = train_data[categorical_cols].astype(\"str\")\n",
    "test_data[categorical_cols] = test_data[categorical_cols].astype(\"str\")\n",
    "\n",
    "X = train_data.drop(\"임신 성공 여부\", axis=1)\n",
    "y = train_data[\"임신 성공 여부\"]"
   ]
  },
  {
   "cell_type": "markdown",
   "metadata": {},
   "source": [
    "# 모델링"
   ]
  },
  {
   "cell_type": "code",
   "execution_count": 60,
   "metadata": {},
   "outputs": [],
   "source": [
    "def CAT(params, seed):\n",
    "\n",
    "    # 데이터 분할\n",
    "    X_train, X_val, y_train, y_val = train_test_split(\n",
    "        X, y, test_size=0.3, stratify=y, random_state=seed\n",
    "    )\n",
    "\n",
    "    # 모델 초기화 및 학습(모델 시드는 77로 고정)\n",
    "    model = CatBoostClassifier(\n",
    "        **params,\n",
    "        random_state=77,\n",
    "        verbose=0,\n",
    "        cat_features=categorical_cols,\n",
    "        early_stopping_rounds=150,\n",
    "    )\n",
    "    # 최종 검증 데이터셋에서 모델 성능 평가\n",
    "    model.fit(X_train, y_train)\n",
    "    y_pred_probs = model.predict_proba(X_val)[:, 1]\n",
    "    y_pred_final = model.predict(X_val)\n",
    "\n",
    "    accuracy = accuracy_score(y_val, y_pred_final)\n",
    "    precision = precision_score(y_val, y_pred_final)\n",
    "    recall = recall_score(y_val, y_pred_final)\n",
    "    f1_final = f1_score(y_val, y_pred_final)\n",
    "    conf_matrix = confusion_matrix(y_val, y_pred_final)\n",
    "    roc_auc_final = roc_auc_score(y_val, y_pred_probs)\n",
    "\n",
    "    # 결과 출력\n",
    "    print(f\"Accuracy: {accuracy:.4f}\")\n",
    "    print(f\"Precision: {precision:.4f}\")\n",
    "    print(f\"Recall: {recall:.4f}\")\n",
    "    print(f\"F1 Score: {f1_final:.4f}\")\n",
    "    print(f\"ROC-AUC Score: {roc_auc_final:.4f}\")  # 🎯 ROC-AUC 출력\n",
    "    print(\"\\nConfusion Matrix:\")\n",
    "    print(conf_matrix)\n",
    "\n",
    "    # 변수 중요도 계산\n",
    "    feature_importances = model.get_feature_importance()\n",
    "\n",
    "    # 변수 이름과 중요도 및 nunique 값을 zip으로 묶은 후 중요도 기준으로 내림차순 정렬\n",
    "    sorted_importances = sorted(\n",
    "        zip(X_train.columns, feature_importances, X_train.nunique()),\n",
    "        key=lambda x: x[1],\n",
    "        reverse=True,\n",
    "    )\n",
    "\n",
    "    # 상위 10개 변수 중요도 및 nunique 값 출력\n",
    "    print(\"\\nTop 10 Feature Importances:\")\n",
    "    for feature_name, importance, nunique in sorted_importances[:10]:\n",
    "        print(\n",
    "            f\"Feature: {feature_name}, Importance: {importance:.4f}, Unique Values: {nunique}\"\n",
    "        )\n",
    "\n",
    "    return roc_auc_final"
   ]
  },
  {
   "cell_type": "code",
   "execution_count": 63,
   "metadata": {},
   "outputs": [
    {
     "name": "stderr",
     "output_type": "stream",
     "text": [
      "[I 2025-02-27 01:31:10,423] A new study created in memory with name: no-name-ce9fd0cf-6267-4345-926f-10fc1cb52c54\n"
     ]
    },
    {
     "name": "stdout",
     "output_type": "stream",
     "text": [
      "Accuracy: 0.7105\n",
      "Precision: 0.4474\n",
      "Recall: 0.5131\n",
      "F1 Score: 0.4780\n",
      "ROC-AUC Score: 0.7415\n",
      "\n",
      "Confusion Matrix:\n",
      "[[44443 12594]\n",
      " [ 9674 10195]]\n"
     ]
    },
    {
     "name": "stderr",
     "output_type": "stream",
     "text": [
      "[I 2025-02-27 01:41:25,205] Trial 0 finished with value: 0.7414968661878563 and parameters: {'learning_rate': 0.05628905543120771, 'depth': 6, 'n_estimators': 1205, 'class_weights': 1.8, 'l2_leaf_reg': 9, 'bagging_temperature': 1.3970969442483785}. Best is trial 0 with value: 0.7414968661878563.\n"
     ]
    },
    {
     "name": "stdout",
     "output_type": "stream",
     "text": [
      "\n",
      "Top 10 Feature Importances:\n",
      "Feature: 이식된 배아 수, Importance: 37.8525, Unique Values: 4\n",
      "Feature: 배아 이식 경과일, Importance: 23.8305, Unique Values: 9\n",
      "Feature: 시술 당시 나이, Importance: 6.4387, Unique Values: 7\n",
      "Feature: 난자 채취 경과일, Importance: 5.3236, Unique Values: 1\n",
      "Feature: 총 생성 배아 수, Importance: 2.8095, Unique Values: 44\n",
      "Feature: 배아_저장_비율, Importance: 2.5184, Unique Values: 305\n",
      "Feature: 수집된 신선 난자 수, Importance: 2.1232, Unique Values: 52\n",
      "Feature: 난자 출처, Importance: 1.7738, Unique Values: 3\n",
      "Feature: 단일 배아 이식 여부, Importance: 1.2057, Unique Values: 3\n",
      "Feature: 동결 배아 사용 여부, Importance: 1.1672, Unique Values: 3\n",
      "Accuracy: 0.7121\n",
      "Precision: 0.4494\n",
      "Recall: 0.5081\n",
      "F1 Score: 0.4770\n",
      "ROC-AUC Score: 0.7416\n",
      "\n",
      "Confusion Matrix:\n",
      "[[44671 12366]\n",
      " [ 9774 10095]]\n"
     ]
    },
    {
     "name": "stderr",
     "output_type": "stream",
     "text": [
      "[I 2025-02-27 01:56:52,666] Trial 1 finished with value: 0.7415924318310919 and parameters: {'learning_rate': 0.01356869966622113, 'depth': 8, 'n_estimators': 1718, 'class_weights': 1.8, 'l2_leaf_reg': 7, 'bagging_temperature': 1.0834640156391409}. Best is trial 1 with value: 0.7415924318310919.\n"
     ]
    },
    {
     "name": "stdout",
     "output_type": "stream",
     "text": [
      "\n",
      "Top 10 Feature Importances:\n",
      "Feature: 이식된 배아 수, Importance: 33.3699, Unique Values: 4\n",
      "Feature: 배아 이식 경과일, Importance: 23.9345, Unique Values: 9\n",
      "Feature: 시술 당시 나이, Importance: 6.4077, Unique Values: 7\n",
      "Feature: 난자 채취 경과일, Importance: 5.3751, Unique Values: 1\n",
      "Feature: 배아_저장_비율, Importance: 4.1898, Unique Values: 305\n",
      "Feature: 총 생성 배아 수, Importance: 2.7571, Unique Values: 44\n",
      "Feature: 난자 출처, Importance: 2.3435, Unique Values: 3\n",
      "Feature: 저장된 배아 수, Importance: 1.9387, Unique Values: 41\n",
      "Feature: 수집된 신선 난자 수, Importance: 1.4597, Unique Values: 52\n",
      "Feature: 정자 출처, Importance: 1.2088, Unique Values: 4\n",
      "Accuracy: 0.6929\n",
      "Precision: 0.4302\n",
      "Recall: 0.5810\n",
      "F1 Score: 0.4943\n",
      "ROC-AUC Score: 0.7412\n",
      "\n",
      "Confusion Matrix:\n",
      "[[41747 15290]\n",
      " [ 8326 11543]]\n"
     ]
    },
    {
     "name": "stderr",
     "output_type": "stream",
     "text": [
      "[I 2025-02-27 02:04:28,121] Trial 2 finished with value: 0.7412209085522585 and parameters: {'learning_rate': 0.05270433328141827, 'depth': 7, 'n_estimators': 915, 'class_weights': 2.0, 'l2_leaf_reg': 5, 'bagging_temperature': 0.9010596870386498}. Best is trial 1 with value: 0.7415924318310919.\n"
     ]
    },
    {
     "name": "stdout",
     "output_type": "stream",
     "text": [
      "\n",
      "Top 10 Feature Importances:\n",
      "Feature: 이식된 배아 수, Importance: 33.6617, Unique Values: 4\n",
      "Feature: 배아 이식 경과일, Importance: 21.6164, Unique Values: 9\n",
      "Feature: 시술 당시 나이, Importance: 6.0161, Unique Values: 7\n",
      "Feature: 난자 채취 경과일, Importance: 5.0028, Unique Values: 1\n",
      "Feature: 총 생성 배아 수, Importance: 3.8594, Unique Values: 44\n",
      "Feature: 배아_저장_비율, Importance: 3.4099, Unique Values: 305\n",
      "Feature: 저장된 배아 수, Importance: 2.5857, Unique Values: 41\n",
      "Feature: 수집된 신선 난자 수, Importance: 2.5277, Unique Values: 52\n",
      "Feature: 난자 출처, Importance: 1.5370, Unique Values: 3\n",
      "Feature: 난자 혼합 경과일, Importance: 1.4333, Unique Values: 8\n",
      "Accuracy: 0.6934\n",
      "Precision: 0.4308\n",
      "Recall: 0.5811\n",
      "F1 Score: 0.4948\n",
      "ROC-AUC Score: 0.7416\n",
      "\n",
      "Confusion Matrix:\n",
      "[[41779 15258]\n",
      " [ 8323 11546]]\n"
     ]
    },
    {
     "name": "stderr",
     "output_type": "stream",
     "text": [
      "[I 2025-02-27 02:18:50,049] Trial 3 finished with value: 0.7415804876147438 and parameters: {'learning_rate': 0.015965490084583357, 'depth': 7, 'n_estimators': 1785, 'class_weights': 2.0, 'l2_leaf_reg': 3, 'bagging_temperature': 1.0763333206193686}. Best is trial 1 with value: 0.7415924318310919.\n"
     ]
    },
    {
     "name": "stdout",
     "output_type": "stream",
     "text": [
      "\n",
      "Top 10 Feature Importances:\n",
      "Feature: 이식된 배아 수, Importance: 37.6440, Unique Values: 4\n",
      "Feature: 배아 이식 경과일, Importance: 19.5431, Unique Values: 9\n",
      "Feature: 시술 당시 나이, Importance: 6.0880, Unique Values: 7\n",
      "Feature: 총 생성 배아 수, Importance: 3.8502, Unique Values: 44\n",
      "Feature: 난자 채취 경과일, Importance: 3.8048, Unique Values: 1\n",
      "Feature: 배아_저장_비율, Importance: 3.6578, Unique Values: 305\n",
      "Feature: 난자 출처, Importance: 2.7129, Unique Values: 3\n",
      "Feature: 단일 배아 이식 여부, Importance: 1.9142, Unique Values: 3\n",
      "Feature: 저장된 배아 수, Importance: 1.8152, Unique Values: 41\n",
      "Feature: 수집된 신선 난자 수, Importance: 1.7614, Unique Values: 52\n",
      "Accuracy: 0.7334\n",
      "Precision: 0.4793\n",
      "Recall: 0.3675\n",
      "F1 Score: 0.4160\n",
      "ROC-AUC Score: 0.7402\n",
      "\n",
      "Confusion Matrix:\n",
      "[[49103  7934]\n",
      " [12567  7302]]\n"
     ]
    },
    {
     "name": "stderr",
     "output_type": "stream",
     "text": [
      "[I 2025-02-27 02:25:00,682] Trial 4 finished with value: 0.7402468138535964 and parameters: {'learning_rate': 0.012812121619177875, 'depth': 5, 'n_estimators': 1053, 'class_weights': 1.5, 'l2_leaf_reg': 9, 'bagging_temperature': 0.27613442501426294}. Best is trial 1 with value: 0.7415924318310919.\n"
     ]
    },
    {
     "name": "stdout",
     "output_type": "stream",
     "text": [
      "\n",
      "Top 10 Feature Importances:\n",
      "Feature: 이식된 배아 수, Importance: 52.4486, Unique Values: 4\n",
      "Feature: 배아 이식 경과일, Importance: 16.0462, Unique Values: 9\n",
      "Feature: 시술 당시 나이, Importance: 6.0980, Unique Values: 7\n",
      "Feature: 난자 채취 경과일, Importance: 4.5511, Unique Values: 1\n",
      "Feature: 배아_저장_비율, Importance: 3.2120, Unique Values: 305\n",
      "Feature: 저장된 배아 수, Importance: 2.6626, Unique Values: 41\n",
      "Feature: 총 생성 배아 수, Importance: 2.3671, Unique Values: 44\n",
      "Feature: 수집된 신선 난자 수, Importance: 2.0578, Unique Values: 52\n",
      "Feature: 난자 출처, Importance: 1.1746, Unique Values: 3\n",
      "Feature: 동결 배아 사용 여부, Importance: 0.8320, Unique Values: 3\n",
      "Accuracy: 0.7265\n",
      "Precision: 0.4675\n",
      "Recall: 0.4224\n",
      "F1 Score: 0.4438\n",
      "ROC-AUC Score: 0.7409\n",
      "\n",
      "Confusion Matrix:\n",
      "[[47479  9558]\n",
      " [11477  8392]]\n"
     ]
    },
    {
     "name": "stderr",
     "output_type": "stream",
     "text": [
      "[I 2025-02-27 02:31:18,708] Trial 5 finished with value: 0.7409024111171683 and parameters: {'learning_rate': 0.019606068878863236, 'depth': 5, 'n_estimators': 1025, 'class_weights': 1.6, 'l2_leaf_reg': 7, 'bagging_temperature': 0.3785712101854158}. Best is trial 1 with value: 0.7415924318310919.\n"
     ]
    },
    {
     "name": "stdout",
     "output_type": "stream",
     "text": [
      "\n",
      "Top 10 Feature Importances:\n",
      "Feature: 이식된 배아 수, Importance: 55.4059, Unique Values: 4\n",
      "Feature: 배아 이식 경과일, Importance: 13.7447, Unique Values: 9\n",
      "Feature: 시술 당시 나이, Importance: 5.0746, Unique Values: 7\n",
      "Feature: 난자 채취 경과일, Importance: 3.6312, Unique Values: 1\n",
      "Feature: 수집된 신선 난자 수, Importance: 3.2277, Unique Values: 52\n",
      "Feature: 저장된 배아 수, Importance: 2.9786, Unique Values: 41\n",
      "Feature: 총 생성 배아 수, Importance: 2.6373, Unique Values: 44\n",
      "Feature: 배아_저장_비율, Importance: 2.4555, Unique Values: 305\n",
      "Feature: 난자 출처, Importance: 2.0381, Unique Values: 3\n",
      "Feature: 정자 출처, Importance: 1.2565, Unique Values: 4\n",
      "Accuracy: 0.7131\n",
      "Precision: 0.4498\n",
      "Recall: 0.4956\n",
      "F1 Score: 0.4716\n",
      "ROC-AUC Score: 0.7403\n",
      "\n",
      "Confusion Matrix:\n",
      "[[44991 12046]\n",
      " [10022  9847]]\n"
     ]
    },
    {
     "name": "stderr",
     "output_type": "stream",
     "text": [
      "[I 2025-02-27 02:36:20,868] Trial 6 finished with value: 0.7402956218077011 and parameters: {'learning_rate': 0.01051660945275616, 'depth': 8, 'n_estimators': 651, 'class_weights': 1.8, 'l2_leaf_reg': 6, 'bagging_temperature': 1.4005799184921341}. Best is trial 1 with value: 0.7415924318310919.\n"
     ]
    },
    {
     "name": "stdout",
     "output_type": "stream",
     "text": [
      "\n",
      "Top 10 Feature Importances:\n",
      "Feature: 배아 이식 경과일, Importance: 30.8976, Unique Values: 9\n",
      "Feature: 이식된 배아 수, Importance: 29.9952, Unique Values: 4\n",
      "Feature: 시술 당시 나이, Importance: 7.2000, Unique Values: 7\n",
      "Feature: 난자 채취 경과일, Importance: 4.5874, Unique Values: 1\n",
      "Feature: 배아_저장_비율, Importance: 3.3610, Unique Values: 305\n",
      "Feature: 총 생성 배아 수, Importance: 3.2392, Unique Values: 44\n",
      "Feature: 저장된 배아 수, Importance: 2.7494, Unique Values: 41\n",
      "Feature: 난자 출처, Importance: 2.5352, Unique Values: 3\n",
      "Feature: 수집된 신선 난자 수, Importance: 1.9887, Unique Values: 52\n",
      "Feature: 단일 배아 이식 여부, Importance: 1.1178, Unique Values: 3\n",
      "Accuracy: 0.7198\n",
      "Precision: 0.4579\n",
      "Recall: 0.4599\n",
      "F1 Score: 0.4589\n",
      "ROC-AUC Score: 0.7407\n",
      "\n",
      "Confusion Matrix:\n",
      "[[46222 10815]\n",
      " [10732  9137]]\n",
      "\n",
      "Top 10 Feature Importances:\n",
      "Feature: 이식된 배아 수, Importance: 31.5230, Unique Values: 4\n",
      "Feature: 배아 이식 경과일, Importance: 28.7428, Unique Values: 9\n",
      "Feature: 시술 당시 나이, Importance: 6.9830, Unique Values: 7\n",
      "Feature: 난자 채취 경과일, Importance: 5.1673, Unique Values: 1\n",
      "Feature: 난자 출처, Importance: 3.2896, Unique Values: 3\n",
      "Feature: 총 생성 배아 수, Importance: 3.0912, Unique Values: 44\n",
      "Feature: 배아_저장_비율, Importance: 2.9592, Unique Values: 305\n",
      "Feature: 수집된 신선 난자 수, Importance: 2.1664, Unique Values: 52\n",
      "Feature: 저장된 배아 수, Importance: 2.1636, Unique Values: 41\n",
      "Feature: 단일 배아 이식 여부, Importance: 0.9917, Unique Values: 3\n"
     ]
    },
    {
     "name": "stderr",
     "output_type": "stream",
     "text": [
      "[I 2025-02-27 02:41:45,310] Trial 7 finished with value: 0.7407483447564946 and parameters: {'learning_rate': 0.013641130769990139, 'depth': 8, 'n_estimators': 679, 'class_weights': 1.7, 'l2_leaf_reg': 8, 'bagging_temperature': 1.2669944307155732}. Best is trial 1 with value: 0.7415924318310919.\n"
     ]
    },
    {
     "name": "stdout",
     "output_type": "stream",
     "text": [
      "Accuracy: 0.7187\n",
      "Precision: 0.4561\n",
      "Recall: 0.4615\n",
      "F1 Score: 0.4588\n",
      "ROC-AUC Score: 0.7407\n",
      "\n",
      "Confusion Matrix:\n",
      "[[46104 10933]\n",
      " [10700  9169]]\n"
     ]
    },
    {
     "name": "stderr",
     "output_type": "stream",
     "text": [
      "[I 2025-02-27 02:46:51,672] Trial 8 finished with value: 0.7407279577016403 and parameters: {'learning_rate': 0.0252389715117965, 'depth': 4, 'n_estimators': 942, 'class_weights': 1.7, 'l2_leaf_reg': 5, 'bagging_temperature': 1.4968735156279824}. Best is trial 1 with value: 0.7415924318310919.\n"
     ]
    },
    {
     "name": "stdout",
     "output_type": "stream",
     "text": [
      "\n",
      "Top 10 Feature Importances:\n",
      "Feature: 이식된 배아 수, Importance: 55.1416, Unique Values: 4\n",
      "Feature: 배아 이식 경과일, Importance: 14.2559, Unique Values: 9\n",
      "Feature: 시술 당시 나이, Importance: 5.4392, Unique Values: 7\n",
      "Feature: 난자 채취 경과일, Importance: 4.7518, Unique Values: 1\n",
      "Feature: 배아_저장_비율, Importance: 3.4822, Unique Values: 305\n",
      "Feature: 총 생성 배아 수, Importance: 2.5819, Unique Values: 44\n",
      "Feature: 저장된 배아 수, Importance: 2.1425, Unique Values: 41\n",
      "Feature: 수집된 신선 난자 수, Importance: 1.6470, Unique Values: 52\n",
      "Feature: 정자 출처, Importance: 1.4322, Unique Values: 4\n",
      "Feature: 난자 출처, Importance: 0.9962, Unique Values: 3\n",
      "Accuracy: 0.7190\n",
      "Precision: 0.4574\n",
      "Recall: 0.4714\n",
      "F1 Score: 0.4643\n",
      "ROC-AUC Score: 0.7412\n",
      "\n",
      "Confusion Matrix:\n",
      "[[45927 11110]\n",
      " [10502  9367]]\n",
      "\n",
      "Top 10 Feature Importances:\n",
      "Feature: 이식된 배아 수, Importance: 30.3296, Unique Values: 4\n",
      "Feature: 배아 이식 경과일, Importance: 26.3543, Unique Values: 9\n",
      "Feature: 시술 당시 나이, Importance: 6.4504, Unique Values: 7\n",
      "Feature: 난자 채취 경과일, Importance: 5.1077, Unique Values: 1\n",
      "Feature: 저장된 배아 수, Importance: 3.4150, Unique Values: 41\n",
      "Feature: 수집된 신선 난자 수, Importance: 3.3964, Unique Values: 52\n",
      "Feature: 총 생성 배아 수, Importance: 3.0593, Unique Values: 44\n",
      "Feature: 배아_저장_비율, Importance: 3.0312, Unique Values: 305\n",
      "Feature: 난자 출처, Importance: 1.4967, Unique Values: 3\n",
      "Feature: 신선 배아 사용 여부, Importance: 1.3786, Unique Values: 3\n"
     ]
    },
    {
     "name": "stderr",
     "output_type": "stream",
     "text": [
      "[I 2025-02-27 02:54:02,197] Trial 9 finished with value: 0.7411958937312517 and parameters: {'learning_rate': 0.04526778158104525, 'depth': 7, 'n_estimators': 929, 'class_weights': 1.7, 'l2_leaf_reg': 9, 'bagging_temperature': 0.5208182420411939}. Best is trial 1 with value: 0.7415924318310919.\n"
     ]
    },
    {
     "name": "stdout",
     "output_type": "stream",
     "text": [
      "Accuracy: 0.7044\n",
      "Precision: 0.4408\n",
      "Recall: 0.5369\n",
      "F1 Score: 0.4841\n",
      "ROC-AUC Score: 0.7399\n",
      "\n",
      "Confusion Matrix:\n",
      "[[43503 13534]\n",
      " [ 9201 10668]]\n"
     ]
    },
    {
     "name": "stderr",
     "output_type": "stream",
     "text": [
      "[I 2025-02-27 03:10:25,045] Trial 10 finished with value: 0.7399096381383974 and parameters: {'learning_rate': 0.03231691229148771, 'depth': 9, 'n_estimators': 1696, 'class_weights': 1.9, 'l2_leaf_reg': 3, 'bagging_temperature': 0.7571735024110243}. Best is trial 1 with value: 0.7415924318310919.\n"
     ]
    },
    {
     "name": "stdout",
     "output_type": "stream",
     "text": [
      "\n",
      "Top 10 Feature Importances:\n",
      "Feature: 이식된 배아 수, Importance: 34.6484, Unique Values: 4\n",
      "Feature: 배아 이식 경과일, Importance: 11.3735, Unique Values: 9\n",
      "Feature: 시술 당시 나이, Importance: 6.8278, Unique Values: 7\n",
      "Feature: 난자 채취 경과일, Importance: 3.2514, Unique Values: 1\n",
      "Feature: 시술 시기 코드, Importance: 3.2440, Unique Values: 7\n",
      "Feature: 총 생성 배아 수, Importance: 3.0354, Unique Values: 44\n",
      "Feature: 배아_저장_비율, Importance: 3.0207, Unique Values: 305\n",
      "Feature: 난자 출처, Importance: 2.8211, Unique Values: 3\n",
      "Feature: 클리닉 내 총 시술 횟수, Importance: 2.3044, Unique Values: 7\n",
      "Feature: 저장된 배아 수, Importance: 1.8698, Unique Values: 41\n",
      "Accuracy: 0.6936\n",
      "Precision: 0.4305\n",
      "Recall: 0.5754\n",
      "F1 Score: 0.4925\n",
      "ROC-AUC Score: 0.7409\n",
      "\n",
      "Confusion Matrix:\n",
      "[[41913 15124]\n",
      " [ 8437 11432]]\n"
     ]
    },
    {
     "name": "stderr",
     "output_type": "stream",
     "text": [
      "[I 2025-02-27 03:27:51,054] Trial 11 finished with value: 0.7408645242323332 and parameters: {'learning_rate': 0.017246468611991826, 'depth': 9, 'n_estimators': 1796, 'class_weights': 2.0, 'l2_leaf_reg': 3, 'bagging_temperature': 1.0485520506843684}. Best is trial 1 with value: 0.7415924318310919.\n"
     ]
    },
    {
     "name": "stdout",
     "output_type": "stream",
     "text": [
      "\n",
      "Top 10 Feature Importances:\n",
      "Feature: 이식된 배아 수, Importance: 28.9146, Unique Values: 4\n",
      "Feature: 배아 이식 경과일, Importance: 17.8156, Unique Values: 9\n",
      "Feature: 시술 당시 나이, Importance: 7.2119, Unique Values: 7\n",
      "Feature: 총 생성 배아 수, Importance: 3.5597, Unique Values: 44\n",
      "Feature: 난자 채취 경과일, Importance: 3.2951, Unique Values: 1\n",
      "Feature: 배아_저장_비율, Importance: 3.1040, Unique Values: 305\n",
      "Feature: 난자 출처, Importance: 3.0093, Unique Values: 3\n",
      "Feature: 시술 시기 코드, Importance: 2.6087, Unique Values: 7\n",
      "Feature: 수집된 신선 난자 수, Importance: 2.4898, Unique Values: 52\n",
      "Feature: 저장된 배아 수, Importance: 2.2394, Unique Values: 41\n",
      "Accuracy: 0.7035\n",
      "Precision: 0.4403\n",
      "Recall: 0.5444\n",
      "F1 Score: 0.4869\n",
      "ROC-AUC Score: 0.7415\n",
      "\n",
      "Confusion Matrix:\n",
      "[[43290 13747]\n",
      " [ 9053 10816]]\n"
     ]
    },
    {
     "name": "stderr",
     "output_type": "stream",
     "text": [
      "[I 2025-02-27 03:40:56,879] Trial 12 finished with value: 0.7415444220111248 and parameters: {'learning_rate': 0.021296674598245992, 'depth': 8, 'n_estimators': 1497, 'class_weights': 1.9, 'l2_leaf_reg': 5, 'bagging_temperature': 1.0907533048975986}. Best is trial 1 with value: 0.7415924318310919.\n"
     ]
    },
    {
     "name": "stdout",
     "output_type": "stream",
     "text": [
      "\n",
      "Top 10 Feature Importances:\n",
      "Feature: 이식된 배아 수, Importance: 28.5947, Unique Values: 4\n",
      "Feature: 배아 이식 경과일, Importance: 24.9594, Unique Values: 9\n",
      "Feature: 시술 당시 나이, Importance: 6.5136, Unique Values: 7\n",
      "Feature: 난자 채취 경과일, Importance: 4.3728, Unique Values: 1\n",
      "Feature: 배아_저장_비율, Importance: 3.3078, Unique Values: 305\n",
      "Feature: 난자 출처, Importance: 3.1946, Unique Values: 3\n",
      "Feature: 총 생성 배아 수, Importance: 2.9975, Unique Values: 44\n",
      "Feature: 수집된 신선 난자 수, Importance: 2.0238, Unique Values: 52\n",
      "Feature: 저장된 배아 수, Importance: 1.7478, Unique Values: 41\n",
      "Feature: 시술 시기 코드, Importance: 1.5076, Unique Values: 7\n",
      "Accuracy: 0.6982\n",
      "Precision: 0.4344\n",
      "Recall: 0.5565\n",
      "F1 Score: 0.4879\n",
      "ROC-AUC Score: 0.7400\n",
      "\n",
      "Confusion Matrix:\n",
      "[[42641 14396]\n",
      " [ 8812 11057]]\n"
     ]
    },
    {
     "name": "stderr",
     "output_type": "stream",
     "text": [
      "[I 2025-02-27 03:51:47,777] Trial 13 finished with value: 0.739988863871303 and parameters: {'learning_rate': 0.09930830195959782, 'depth': 6, 'n_estimators': 1522, 'class_weights': 1.9, 'l2_leaf_reg': 7, 'bagging_temperature': 1.111605773768739}. Best is trial 1 with value: 0.7415924318310919.\n"
     ]
    },
    {
     "name": "stdout",
     "output_type": "stream",
     "text": [
      "\n",
      "Top 10 Feature Importances:\n",
      "Feature: 이식된 배아 수, Importance: 45.3347, Unique Values: 4\n",
      "Feature: 배아 이식 경과일, Importance: 12.1156, Unique Values: 9\n",
      "Feature: 난자 채취 경과일, Importance: 6.6356, Unique Values: 1\n",
      "Feature: 시술 당시 나이, Importance: 5.9030, Unique Values: 7\n",
      "Feature: 배아_저장_비율, Importance: 4.5635, Unique Values: 305\n",
      "Feature: 총 생성 배아 수, Importance: 2.2284, Unique Values: 44\n",
      "Feature: 기증자 정자와 혼합된 난자 수, Importance: 1.2642, Unique Values: 46\n",
      "Feature: 난자 출처, Importance: 1.2527, Unique Values: 3\n",
      "Feature: 시술_카테고리, Importance: 1.2390, Unique Values: 5\n",
      "Feature: 수집된 신선 난자 수, Importance: 1.2083, Unique Values: 52\n",
      "Accuracy: 0.6934\n",
      "Precision: 0.4304\n",
      "Recall: 0.5770\n",
      "F1 Score: 0.4930\n",
      "ROC-AUC Score: 0.7411\n",
      "\n",
      "Confusion Matrix:\n",
      "[[41865 15172]\n",
      " [ 8405 11464]]\n"
     ]
    },
    {
     "name": "stderr",
     "output_type": "stream",
     "text": [
      "[I 2025-02-27 04:01:50,184] Trial 14 finished with value: 0.7410519772190227 and parameters: {'learning_rate': 0.010119904025387195, 'depth': 7, 'n_estimators': 1373, 'class_weights': 2.0, 'l2_leaf_reg': 4, 'bagging_temperature': 0.6965724191439092}. Best is trial 1 with value: 0.7415924318310919.\n"
     ]
    },
    {
     "name": "stdout",
     "output_type": "stream",
     "text": [
      "\n",
      "Top 10 Feature Importances:\n",
      "Feature: 이식된 배아 수, Importance: 38.4302, Unique Values: 4\n",
      "Feature: 배아 이식 경과일, Importance: 22.8878, Unique Values: 9\n",
      "Feature: 시술 당시 나이, Importance: 6.8122, Unique Values: 7\n",
      "Feature: 총 생성 배아 수, Importance: 3.5731, Unique Values: 44\n",
      "Feature: 난자 출처, Importance: 3.5455, Unique Values: 3\n",
      "Feature: 난자 채취 경과일, Importance: 3.4172, Unique Values: 1\n",
      "Feature: 배아_저장_비율, Importance: 3.1550, Unique Values: 305\n",
      "Feature: 저장된 배아 수, Importance: 2.3665, Unique Values: 41\n",
      "Feature: 수집된 신선 난자 수, Importance: 1.9391, Unique Values: 52\n",
      "Feature: 단일 배아 이식 여부, Importance: 1.2558, Unique Values: 3\n",
      "Accuracy: 0.7326\n",
      "Precision: 0.4778\n",
      "Recall: 0.3769\n",
      "F1 Score: 0.4214\n",
      "ROC-AUC Score: 0.7414\n",
      "\n",
      "Confusion Matrix:\n",
      "[[48852  8185]\n",
      " [12380  7489]]\n"
     ]
    },
    {
     "name": "stderr",
     "output_type": "stream",
     "text": [
      "[I 2025-02-27 04:15:11,796] Trial 15 finished with value: 0.7414273049813658 and parameters: {'learning_rate': 0.015243387834161688, 'depth': 8, 'n_estimators': 1616, 'class_weights': 1.5, 'l2_leaf_reg': 10, 'bagging_temperature': 0.02007427756060709}. Best is trial 1 with value: 0.7415924318310919.\n"
     ]
    },
    {
     "name": "stdout",
     "output_type": "stream",
     "text": [
      "\n",
      "Top 10 Feature Importances:\n",
      "Feature: 이식된 배아 수, Importance: 33.5474, Unique Values: 4\n",
      "Feature: 배아 이식 경과일, Importance: 24.3109, Unique Values: 9\n",
      "Feature: 시술 당시 나이, Importance: 7.4387, Unique Values: 7\n",
      "Feature: 난자 채취 경과일, Importance: 3.3520, Unique Values: 1\n",
      "Feature: 배아_저장_비율, Importance: 2.7668, Unique Values: 305\n",
      "Feature: 난자 출처, Importance: 2.7656, Unique Values: 3\n",
      "Feature: 저장된 배아 수, Importance: 2.7401, Unique Values: 41\n",
      "Feature: 수집된 신선 난자 수, Importance: 2.7105, Unique Values: 52\n",
      "Feature: 총 생성 배아 수, Importance: 2.4390, Unique Values: 44\n",
      "Feature: 시술 시기 코드, Importance: 1.1618, Unique Values: 7\n",
      "Accuracy: 0.7119\n",
      "Precision: 0.4490\n",
      "Recall: 0.5062\n",
      "F1 Score: 0.4759\n",
      "ROC-AUC Score: 0.7405\n",
      "\n",
      "Confusion Matrix:\n",
      "[[44693 12344]\n",
      " [ 9811 10058]]\n"
     ]
    },
    {
     "name": "stderr",
     "output_type": "stream",
     "text": [
      "[I 2025-02-27 04:28:16,066] Trial 16 finished with value: 0.7405465522686403 and parameters: {'learning_rate': 0.03186894864743893, 'depth': 9, 'n_estimators': 1377, 'class_weights': 1.8, 'l2_leaf_reg': 6, 'bagging_temperature': 0.8582976778316437}. Best is trial 1 with value: 0.7415924318310919.\n"
     ]
    },
    {
     "name": "stdout",
     "output_type": "stream",
     "text": [
      "\n",
      "Top 10 Feature Importances:\n",
      "Feature: 이식된 배아 수, Importance: 40.2375, Unique Values: 4\n",
      "Feature: 배아 이식 경과일, Importance: 10.2722, Unique Values: 9\n",
      "Feature: 시술 당시 나이, Importance: 6.6377, Unique Values: 7\n",
      "Feature: 배아_저장_비율, Importance: 3.8090, Unique Values: 305\n",
      "Feature: 난자 채취 경과일, Importance: 3.1125, Unique Values: 1\n",
      "Feature: 총 생성 배아 수, Importance: 2.9353, Unique Values: 44\n",
      "Feature: 수집된 신선 난자 수, Importance: 2.6574, Unique Values: 52\n",
      "Feature: 시술 시기 코드, Importance: 2.4798, Unique Values: 7\n",
      "Feature: 저장된 배아 수, Importance: 1.7923, Unique Values: 41\n",
      "Feature: 클리닉 내 총 시술 횟수, Importance: 1.7460, Unique Values: 7\n",
      "Accuracy: 0.7024\n",
      "Precision: 0.4393\n",
      "Recall: 0.5490\n",
      "F1 Score: 0.4880\n",
      "ROC-AUC Score: 0.7415\n",
      "\n",
      "Confusion Matrix:\n",
      "[[43112 13925]\n",
      " [ 8961 10908]]\n"
     ]
    },
    {
     "name": "stderr",
     "output_type": "stream",
     "text": [
      "[I 2025-02-27 04:40:33,210] Trial 17 finished with value: 0.7414922326860798 and parameters: {'learning_rate': 0.025575376439586416, 'depth': 6, 'n_estimators': 1774, 'class_weights': 1.9, 'l2_leaf_reg': 4, 'bagging_temperature': 1.1550749998993695}. Best is trial 1 with value: 0.7415924318310919.\n"
     ]
    },
    {
     "name": "stdout",
     "output_type": "stream",
     "text": [
      "\n",
      "Top 10 Feature Importances:\n",
      "Feature: 이식된 배아 수, Importance: 41.5136, Unique Values: 4\n",
      "Feature: 배아 이식 경과일, Importance: 17.7053, Unique Values: 9\n",
      "Feature: 시술 당시 나이, Importance: 6.3098, Unique Values: 7\n",
      "Feature: 난자 채취 경과일, Importance: 4.8567, Unique Values: 1\n",
      "Feature: 총 생성 배아 수, Importance: 3.8690, Unique Values: 44\n",
      "Feature: 배아_저장_비율, Importance: 3.3831, Unique Values: 305\n",
      "Feature: 저장된 배아 수, Importance: 2.5781, Unique Values: 41\n",
      "Feature: 난자 출처, Importance: 2.3710, Unique Values: 3\n",
      "Feature: 수집된 신선 난자 수, Importance: 2.3130, Unique Values: 52\n",
      "Feature: 대리모 여부, Importance: 1.9149, Unique Values: 3\n",
      "Accuracy: 0.7263\n",
      "Precision: 0.4670\n",
      "Recall: 0.4197\n",
      "F1 Score: 0.4421\n",
      "ROC-AUC Score: 0.7411\n",
      "\n",
      "Confusion Matrix:\n",
      "[[47517  9520]\n",
      " [11529  8340]]\n"
     ]
    },
    {
     "name": "stderr",
     "output_type": "stream",
     "text": [
      "[I 2025-02-27 04:49:56,061] Trial 18 finished with value: 0.7411276248049653 and parameters: {'learning_rate': 0.01266256840776522, 'depth': 7, 'n_estimators': 1278, 'class_weights': 1.6, 'l2_leaf_reg': 8, 'bagging_temperature': 0.9778420482164569}. Best is trial 1 with value: 0.7415924318310919.\n"
     ]
    },
    {
     "name": "stdout",
     "output_type": "stream",
     "text": [
      "\n",
      "Top 10 Feature Importances:\n",
      "Feature: 이식된 배아 수, Importance: 38.4751, Unique Values: 4\n",
      "Feature: 배아 이식 경과일, Importance: 22.5881, Unique Values: 9\n",
      "Feature: 시술 당시 나이, Importance: 6.4763, Unique Values: 7\n",
      "Feature: 난자 채취 경과일, Importance: 5.0835, Unique Values: 1\n",
      "Feature: 배아_저장_비율, Importance: 3.6438, Unique Values: 305\n",
      "Feature: 총 생성 배아 수, Importance: 3.1054, Unique Values: 44\n",
      "Feature: 난자 출처, Importance: 2.9765, Unique Values: 3\n",
      "Feature: 저장된 배아 수, Importance: 2.3630, Unique Values: 41\n",
      "Feature: 수집된 신선 난자 수, Importance: 1.9277, Unique Values: 52\n",
      "Feature: 단일 배아 이식 여부, Importance: 0.9756, Unique Values: 3\n",
      "Accuracy: 0.6934\n",
      "Precision: 0.4306\n",
      "Recall: 0.5795\n",
      "F1 Score: 0.4941\n",
      "ROC-AUC Score: 0.7416\n",
      "\n",
      "Confusion Matrix:\n",
      "[[41812 15225]\n",
      " [ 8354 11515]]\n"
     ]
    },
    {
     "name": "stderr",
     "output_type": "stream",
     "text": [
      "[I 2025-02-27 05:03:22,521] Trial 19 finished with value: 0.741552563508771 and parameters: {'learning_rate': 0.017321047825327292, 'depth': 8, 'n_estimators': 1623, 'class_weights': 2.0, 'l2_leaf_reg': 7, 'bagging_temperature': 1.2389058385679206}. Best is trial 1 with value: 0.7415924318310919.\n"
     ]
    },
    {
     "name": "stdout",
     "output_type": "stream",
     "text": [
      "\n",
      "Top 10 Feature Importances:\n",
      "Feature: 이식된 배아 수, Importance: 38.1158, Unique Values: 4\n",
      "Feature: 배아 이식 경과일, Importance: 18.1292, Unique Values: 9\n",
      "Feature: 시술 당시 나이, Importance: 6.8440, Unique Values: 7\n",
      "Feature: 배아_저장_비율, Importance: 3.9451, Unique Values: 305\n",
      "Feature: 난자 채취 경과일, Importance: 3.8012, Unique Values: 1\n",
      "Feature: 총 생성 배아 수, Importance: 2.9070, Unique Values: 44\n",
      "Feature: 난자 출처, Importance: 2.3082, Unique Values: 3\n",
      "Feature: 단일 배아 이식 여부, Importance: 1.8845, Unique Values: 3\n",
      "Feature: 수집된 신선 난자 수, Importance: 1.7007, Unique Values: 52\n",
      "Feature: 저장된 배아 수, Importance: 1.5966, Unique Values: 41\n",
      "Accuracy: 0.7257\n",
      "Precision: 0.4662\n",
      "Recall: 0.4254\n",
      "F1 Score: 0.4449\n",
      "ROC-AUC Score: 0.7412\n",
      "\n",
      "Confusion Matrix:\n",
      "[[47359  9678]\n",
      " [11417  8452]]\n"
     ]
    },
    {
     "name": "stderr",
     "output_type": "stream",
     "text": [
      "[I 2025-02-27 05:12:12,402] Trial 20 finished with value: 0.7412335132477688 and parameters: {'learning_rate': 0.02406060741719987, 'depth': 5, 'n_estimators': 1441, 'class_weights': 1.6, 'l2_leaf_reg': 4, 'bagging_temperature': 0.6806922749804452}. Best is trial 1 with value: 0.7415924318310919.\n"
     ]
    },
    {
     "name": "stdout",
     "output_type": "stream",
     "text": [
      "\n",
      "Top 10 Feature Importances:\n",
      "Feature: 이식된 배아 수, Importance: 50.6128, Unique Values: 4\n",
      "Feature: 배아 이식 경과일, Importance: 15.6964, Unique Values: 9\n",
      "Feature: 시술 당시 나이, Importance: 5.0845, Unique Values: 7\n",
      "Feature: 난자 채취 경과일, Importance: 3.7613, Unique Values: 1\n",
      "Feature: 배아_저장_비율, Importance: 3.5929, Unique Values: 305\n",
      "Feature: 총 생성 배아 수, Importance: 2.8619, Unique Values: 44\n",
      "Feature: 수집된 신선 난자 수, Importance: 2.6692, Unique Values: 52\n",
      "Feature: 난자 출처, Importance: 2.5418, Unique Values: 3\n",
      "Feature: 저장된 배아 수, Importance: 2.4653, Unique Values: 41\n",
      "Feature: 난자 혼합 경과일, Importance: 1.0330, Unique Values: 8\n",
      "Accuracy: 0.6935\n",
      "Precision: 0.4307\n",
      "Recall: 0.5782\n",
      "F1 Score: 0.4937\n",
      "ROC-AUC Score: 0.7415\n",
      "\n",
      "Confusion Matrix:\n",
      "[[41849 15188]\n",
      " [ 8380 11489]]\n"
     ]
    },
    {
     "name": "stderr",
     "output_type": "stream",
     "text": [
      "[I 2025-02-27 05:26:16,913] Trial 21 finished with value: 0.7414694971138045 and parameters: {'learning_rate': 0.016713054007257148, 'depth': 8, 'n_estimators': 1642, 'class_weights': 2.0, 'l2_leaf_reg': 7, 'bagging_temperature': 1.2619948161021557}. Best is trial 1 with value: 0.7415924318310919.\n"
     ]
    },
    {
     "name": "stdout",
     "output_type": "stream",
     "text": [
      "\n",
      "Top 10 Feature Importances:\n",
      "Feature: 이식된 배아 수, Importance: 41.4975, Unique Values: 4\n",
      "Feature: 배아 이식 경과일, Importance: 16.6773, Unique Values: 9\n",
      "Feature: 시술 당시 나이, Importance: 6.3506, Unique Values: 7\n",
      "Feature: 배아_저장_비율, Importance: 3.6634, Unique Values: 305\n",
      "Feature: 총 생성 배아 수, Importance: 3.3161, Unique Values: 44\n",
      "Feature: 난자 채취 경과일, Importance: 3.1690, Unique Values: 1\n",
      "Feature: 수집된 신선 난자 수, Importance: 2.0564, Unique Values: 52\n",
      "Feature: 난자 출처, Importance: 1.9110, Unique Values: 3\n",
      "Feature: 저장된 배아 수, Importance: 1.8058, Unique Values: 41\n",
      "Feature: 신선 배아 사용 여부, Importance: 1.3376, Unique Values: 3\n",
      "Accuracy: 0.7032\n",
      "Precision: 0.4400\n",
      "Recall: 0.5465\n",
      "F1 Score: 0.4875\n",
      "ROC-AUC Score: 0.7415\n",
      "\n",
      "Confusion Matrix:\n",
      "[[43218 13819]\n",
      " [ 9010 10859]]\n"
     ]
    },
    {
     "name": "stderr",
     "output_type": "stream",
     "text": [
      "[I 2025-02-27 05:39:23,325] Trial 22 finished with value: 0.7415295513029385 and parameters: {'learning_rate': 0.018108137280524416, 'depth': 8, 'n_estimators': 1588, 'class_weights': 1.9, 'l2_leaf_reg': 8, 'bagging_temperature': 1.31617366520186}. Best is trial 1 with value: 0.7415924318310919.\n"
     ]
    },
    {
     "name": "stdout",
     "output_type": "stream",
     "text": [
      "\n",
      "Top 10 Feature Importances:\n",
      "Feature: 이식된 배아 수, Importance: 40.7355, Unique Values: 4\n",
      "Feature: 배아 이식 경과일, Importance: 18.9365, Unique Values: 9\n",
      "Feature: 시술 당시 나이, Importance: 6.1151, Unique Values: 7\n",
      "Feature: 난자 채취 경과일, Importance: 5.7023, Unique Values: 1\n",
      "Feature: 총 생성 배아 수, Importance: 2.9186, Unique Values: 44\n",
      "Feature: 배아_저장_비율, Importance: 2.7224, Unique Values: 305\n",
      "Feature: 난자 출처, Importance: 2.4484, Unique Values: 3\n",
      "Feature: 저장된 배아 수, Importance: 1.6419, Unique Values: 41\n",
      "Feature: 수집된 신선 난자 수, Importance: 1.5442, Unique Values: 52\n",
      "Feature: 시술 시기 코드, Importance: 1.1761, Unique Values: 7\n",
      "Accuracy: 0.6930\n",
      "Precision: 0.4302\n",
      "Recall: 0.5804\n",
      "F1 Score: 0.4941\n",
      "ROC-AUC Score: 0.7415\n",
      "\n",
      "Confusion Matrix:\n",
      "[[41763 15274]\n",
      " [ 8337 11532]]\n",
      "\n",
      "Top 10 Feature Importances:\n",
      "Feature: 이식된 배아 수, Importance: 39.1837, Unique Values: 4\n",
      "Feature: 배아 이식 경과일, Importance: 20.5502, Unique Values: 9\n",
      "Feature: 시술 당시 나이, Importance: 6.6196, Unique Values: 7\n",
      "Feature: 난자 채취 경과일, Importance: 4.4104, Unique Values: 1\n",
      "Feature: 총 생성 배아 수, Importance: 3.5412, Unique Values: 44\n",
      "Feature: 배아_저장_비율, Importance: 3.2700, Unique Values: 305\n",
      "Feature: 난자 출처, Importance: 2.5563, Unique Values: 3\n",
      "Feature: 수집된 신선 난자 수, Importance: 2.4636, Unique Values: 52\n",
      "Feature: 저장된 배아 수, Importance: 2.0822, Unique Values: 41\n",
      "Feature: 단일 배아 이식 여부, Importance: 1.4063, Unique Values: 3\n"
     ]
    },
    {
     "name": "stderr",
     "output_type": "stream",
     "text": [
      "[I 2025-02-27 05:52:19,982] Trial 23 finished with value: 0.7414656317444402 and parameters: {'learning_rate': 0.014045592333851912, 'depth': 7, 'n_estimators': 1712, 'class_weights': 2.0, 'l2_leaf_reg': 6, 'bagging_temperature': 1.1819166106609067}. Best is trial 1 with value: 0.7415924318310919.\n"
     ]
    },
    {
     "name": "stdout",
     "output_type": "stream",
     "text": [
      "Accuracy: 0.7119\n",
      "Precision: 0.4491\n",
      "Recall: 0.5072\n",
      "F1 Score: 0.4764\n",
      "ROC-AUC Score: 0.7414\n",
      "\n",
      "Confusion Matrix:\n",
      "[[44675 12362]\n",
      " [ 9791 10078]]\n"
     ]
    },
    {
     "name": "stderr",
     "output_type": "stream",
     "text": [
      "[I 2025-02-27 06:09:02,882] Trial 24 finished with value: 0.7414326152867723 and parameters: {'learning_rate': 0.011902881397321085, 'depth': 9, 'n_estimators': 1799, 'class_weights': 1.8, 'l2_leaf_reg': 7, 'bagging_temperature': 0.9136358167248017}. Best is trial 1 with value: 0.7415924318310919.\n"
     ]
    },
    {
     "name": "stdout",
     "output_type": "stream",
     "text": [
      "\n",
      "Top 10 Feature Importances:\n",
      "Feature: 이식된 배아 수, Importance: 31.6710, Unique Values: 4\n",
      "Feature: 배아 이식 경과일, Importance: 20.3986, Unique Values: 9\n",
      "Feature: 시술 당시 나이, Importance: 6.9292, Unique Values: 7\n",
      "Feature: 난자 채취 경과일, Importance: 4.4768, Unique Values: 1\n",
      "Feature: 총 생성 배아 수, Importance: 3.4457, Unique Values: 44\n",
      "Feature: 난자 출처, Importance: 3.1963, Unique Values: 3\n",
      "Feature: 배아_저장_비율, Importance: 2.7931, Unique Values: 305\n",
      "Feature: 저장된 배아 수, Importance: 2.4666, Unique Values: 41\n",
      "Feature: 시술 시기 코드, Importance: 2.0593, Unique Values: 7\n",
      "Feature: 수집된 신선 난자 수, Importance: 1.8740, Unique Values: 52\n",
      "Accuracy: 0.6943\n",
      "Precision: 0.4315\n",
      "Recall: 0.5768\n",
      "F1 Score: 0.4937\n",
      "ROC-AUC Score: 0.7414\n",
      "\n",
      "Confusion Matrix:\n",
      "[[41938 15099]\n",
      " [ 8408 11461]]\n"
     ]
    },
    {
     "name": "stderr",
     "output_type": "stream",
     "text": [
      "[I 2025-02-27 06:22:49,437] Trial 25 finished with value: 0.7414152614946024 and parameters: {'learning_rate': 0.020948680841147226, 'depth': 8, 'n_estimators': 1550, 'class_weights': 2.0, 'l2_leaf_reg': 8, 'bagging_temperature': 1.0028972495382509}. Best is trial 1 with value: 0.7415924318310919.\n"
     ]
    },
    {
     "name": "stdout",
     "output_type": "stream",
     "text": [
      "\n",
      "Top 10 Feature Importances:\n",
      "Feature: 이식된 배아 수, Importance: 33.6038, Unique Values: 4\n",
      "Feature: 배아 이식 경과일, Importance: 21.9480, Unique Values: 9\n",
      "Feature: 시술 당시 나이, Importance: 6.8101, Unique Values: 7\n",
      "Feature: 난자 채취 경과일, Importance: 3.8284, Unique Values: 1\n",
      "Feature: 난자 출처, Importance: 3.7267, Unique Values: 3\n",
      "Feature: 배아_저장_비율, Importance: 3.2837, Unique Values: 305\n",
      "Feature: 총 생성 배아 수, Importance: 2.9975, Unique Values: 44\n",
      "Feature: 저장된 배아 수, Importance: 1.9008, Unique Values: 41\n",
      "Feature: 수집된 신선 난자 수, Importance: 1.5024, Unique Values: 52\n",
      "Feature: 시술 시기 코드, Importance: 1.4790, Unique Values: 7\n",
      "Accuracy: 0.7022\n",
      "Precision: 0.4388\n",
      "Recall: 0.5480\n",
      "F1 Score: 0.4874\n",
      "ROC-AUC Score: 0.7413\n",
      "\n",
      "Confusion Matrix:\n",
      "[[43113 13924]\n",
      " [ 8981 10888]]\n"
     ]
    },
    {
     "name": "stderr",
     "output_type": "stream",
     "text": [
      "[I 2025-02-27 06:36:04,932] Trial 26 finished with value: 0.7412507743875514 and parameters: {'learning_rate': 0.03876030914664065, 'depth': 7, 'n_estimators': 1675, 'class_weights': 1.9, 'l2_leaf_reg': 6, 'bagging_temperature': 0.8119457525210467}. Best is trial 1 with value: 0.7415924318310919.\n"
     ]
    },
    {
     "name": "stdout",
     "output_type": "stream",
     "text": [
      "\n",
      "Top 10 Feature Importances:\n",
      "Feature: 이식된 배아 수, Importance: 43.6796, Unique Values: 4\n",
      "Feature: 배아 이식 경과일, Importance: 15.1416, Unique Values: 9\n",
      "Feature: 시술 당시 나이, Importance: 5.9950, Unique Values: 7\n",
      "Feature: 배아_저장_비율, Importance: 3.4717, Unique Values: 305\n",
      "Feature: 총 생성 배아 수, Importance: 3.0595, Unique Values: 44\n",
      "Feature: 난자 채취 경과일, Importance: 2.7326, Unique Values: 1\n",
      "Feature: 수집된 신선 난자 수, Importance: 2.6663, Unique Values: 52\n",
      "Feature: 저장된 배아 수, Importance: 2.6639, Unique Values: 41\n",
      "Feature: 난자 출처, Importance: 1.4222, Unique Values: 3\n",
      "Feature: 난자 혼합 경과일, Importance: 1.2716, Unique Values: 8\n",
      "Accuracy: 0.6940\n",
      "Precision: 0.4309\n",
      "Recall: 0.5759\n",
      "F1 Score: 0.4930\n",
      "ROC-AUC Score: 0.7414\n",
      "\n",
      "Confusion Matrix:\n",
      "[[41928 15109]\n",
      " [ 8427 11442]]\n"
     ]
    },
    {
     "name": "stderr",
     "output_type": "stream",
     "text": [
      "[I 2025-02-27 06:47:53,827] Trial 27 finished with value: 0.7413822644498155 and parameters: {'learning_rate': 0.015474122983280842, 'depth': 9, 'n_estimators': 1304, 'class_weights': 2.0, 'l2_leaf_reg': 5, 'bagging_temperature': 1.2201727891133256}. Best is trial 1 with value: 0.7415924318310919.\n"
     ]
    },
    {
     "name": "stdout",
     "output_type": "stream",
     "text": [
      "\n",
      "Top 10 Feature Importances:\n",
      "Feature: 이식된 배아 수, Importance: 39.4134, Unique Values: 4\n",
      "Feature: 배아 이식 경과일, Importance: 14.3618, Unique Values: 9\n",
      "Feature: 시술 당시 나이, Importance: 6.6907, Unique Values: 7\n",
      "Feature: 난자 출처, Importance: 3.8555, Unique Values: 3\n",
      "Feature: 총 생성 배아 수, Importance: 3.2155, Unique Values: 44\n",
      "Feature: 난자 채취 경과일, Importance: 3.1650, Unique Values: 1\n",
      "Feature: 배아_저장_비율, Importance: 2.4465, Unique Values: 305\n",
      "Feature: 수집된 신선 난자 수, Importance: 2.3748, Unique Values: 52\n",
      "Feature: 저장된 배아 수, Importance: 1.9225, Unique Values: 41\n",
      "Feature: 시술 시기 코드, Importance: 1.7679, Unique Values: 7\n",
      "Accuracy: 0.7030\n",
      "Precision: 0.4393\n",
      "Recall: 0.5408\n",
      "F1 Score: 0.4848\n",
      "ROC-AUC Score: 0.7410\n",
      "\n",
      "Confusion Matrix:\n",
      "[[43321 13716]\n",
      " [ 9123 10746]]\n"
     ]
    },
    {
     "name": "stderr",
     "output_type": "stream",
     "text": [
      "[I 2025-02-27 06:57:56,658] Trial 28 finished with value: 0.7409814016894906 and parameters: {'learning_rate': 0.011437261645965896, 'depth': 6, 'n_estimators': 1494, 'class_weights': 1.9, 'l2_leaf_reg': 10, 'bagging_temperature': 1.3913629730172103}. Best is trial 1 with value: 0.7415924318310919.\n"
     ]
    },
    {
     "name": "stdout",
     "output_type": "stream",
     "text": [
      "\n",
      "Top 10 Feature Importances:\n",
      "Feature: 이식된 배아 수, Importance: 35.5232, Unique Values: 4\n",
      "Feature: 배아 이식 경과일, Importance: 27.2598, Unique Values: 9\n",
      "Feature: 시술 당시 나이, Importance: 6.6564, Unique Values: 7\n",
      "Feature: 난자 채취 경과일, Importance: 5.7904, Unique Values: 1\n",
      "Feature: 총 생성 배아 수, Importance: 3.4099, Unique Values: 44\n",
      "Feature: 배아_저장_비율, Importance: 3.1938, Unique Values: 305\n",
      "Feature: 난자 출처, Importance: 2.6900, Unique Values: 3\n",
      "Feature: 저장된 배아 수, Importance: 2.2133, Unique Values: 41\n",
      "Feature: 동결 배아 사용 여부, Importance: 1.8003, Unique Values: 3\n",
      "Feature: 수집된 신선 난자 수, Importance: 1.4158, Unique Values: 52\n",
      "Accuracy: 0.7115\n",
      "Precision: 0.4479\n",
      "Recall: 0.5019\n",
      "F1 Score: 0.4734\n",
      "ROC-AUC Score: 0.7398\n",
      "\n",
      "Confusion Matrix:\n",
      "[[44746 12291]\n",
      " [ 9896  9973]]\n"
     ]
    },
    {
     "name": "stderr",
     "output_type": "stream",
     "text": [
      "[I 2025-02-27 07:08:01,988] Trial 29 finished with value: 0.7397744027136708 and parameters: {'learning_rate': 0.08231009238536872, 'depth': 8, 'n_estimators': 1199, 'class_weights': 1.8, 'l2_leaf_reg': 7, 'bagging_temperature': 0.5785939916661786}. Best is trial 1 with value: 0.7415924318310919.\n"
     ]
    },
    {
     "name": "stdout",
     "output_type": "stream",
     "text": [
      "\n",
      "Top 10 Feature Importances:\n",
      "Feature: 이식된 배아 수, Importance: 33.5418, Unique Values: 4\n",
      "Feature: 배아 이식 경과일, Importance: 17.0806, Unique Values: 9\n",
      "Feature: 시술 당시 나이, Importance: 5.7150, Unique Values: 7\n",
      "Feature: 총 생성 배아 수, Importance: 3.4082, Unique Values: 44\n",
      "Feature: 난자 채취 경과일, Importance: 3.2557, Unique Values: 1\n",
      "Feature: 수집된 신선 난자 수, Importance: 3.1969, Unique Values: 52\n",
      "Feature: 저장된 배아 수, Importance: 2.8969, Unique Values: 41\n",
      "Feature: 배아_저장_비율, Importance: 2.2965, Unique Values: 305\n",
      "Feature: 시술 시기 코드, Importance: 2.1658, Unique Values: 7\n",
      "Feature: 대리모 여부, Importance: 1.9292, Unique Values: 3\n",
      "Accuracy: 0.7186\n",
      "Precision: 0.4566\n",
      "Recall: 0.4700\n",
      "F1 Score: 0.4632\n",
      "ROC-AUC Score: 0.7415\n",
      "\n",
      "Confusion Matrix:\n",
      "[[45924 11113]\n",
      " [10530  9339]]\n"
     ]
    },
    {
     "name": "stderr",
     "output_type": "stream",
     "text": [
      "[I 2025-02-27 07:21:24,190] Trial 30 finished with value: 0.74148794508655 and parameters: {'learning_rate': 0.02359930452654825, 'depth': 7, 'n_estimators': 1725, 'class_weights': 1.7, 'l2_leaf_reg': 8, 'bagging_temperature': 1.4768912528588733}. Best is trial 1 with value: 0.7415924318310919.\n"
     ]
    },
    {
     "name": "stdout",
     "output_type": "stream",
     "text": [
      "\n",
      "Top 10 Feature Importances:\n",
      "Feature: 이식된 배아 수, Importance: 31.9877, Unique Values: 4\n",
      "Feature: 배아 이식 경과일, Importance: 25.7605, Unique Values: 9\n",
      "Feature: 시술 당시 나이, Importance: 6.6359, Unique Values: 7\n",
      "Feature: 난자 채취 경과일, Importance: 5.7514, Unique Values: 1\n",
      "Feature: 난자 출처, Importance: 3.6854, Unique Values: 3\n",
      "Feature: 배아_저장_비율, Importance: 3.5729, Unique Values: 305\n",
      "Feature: 총 생성 배아 수, Importance: 3.0624, Unique Values: 44\n",
      "Feature: 저장된 배아 수, Importance: 1.8667, Unique Values: 41\n",
      "Feature: 단일 배아 이식 여부, Importance: 1.7796, Unique Values: 3\n",
      "Feature: 수집된 신선 난자 수, Importance: 1.3028, Unique Values: 52\n",
      "Accuracy: 0.7035\n",
      "Precision: 0.4403\n",
      "Recall: 0.5441\n",
      "F1 Score: 0.4867\n",
      "ROC-AUC Score: 0.7414\n",
      "\n",
      "Confusion Matrix:\n",
      "[[43297 13740]\n",
      " [ 9059 10810]]\n"
     ]
    },
    {
     "name": "stderr",
     "output_type": "stream",
     "text": [
      "[I 2025-02-27 07:34:02,299] Trial 31 finished with value: 0.7413872945920505 and parameters: {'learning_rate': 0.020645039596133515, 'depth': 8, 'n_estimators': 1459, 'class_weights': 1.9, 'l2_leaf_reg': 3, 'bagging_temperature': 1.0658572479964832}. Best is trial 1 with value: 0.7415924318310919.\n"
     ]
    },
    {
     "name": "stdout",
     "output_type": "stream",
     "text": [
      "\n",
      "Top 10 Feature Importances:\n",
      "Feature: 이식된 배아 수, Importance: 26.5765, Unique Values: 4\n",
      "Feature: 배아 이식 경과일, Importance: 26.2055, Unique Values: 9\n",
      "Feature: 시술 당시 나이, Importance: 7.0420, Unique Values: 7\n",
      "Feature: 난자 채취 경과일, Importance: 4.4585, Unique Values: 1\n",
      "Feature: 배아_저장_비율, Importance: 4.1486, Unique Values: 305\n",
      "Feature: 총 생성 배아 수, Importance: 3.5320, Unique Values: 44\n",
      "Feature: 난자 출처, Importance: 2.9171, Unique Values: 3\n",
      "Feature: 수집된 신선 난자 수, Importance: 1.8847, Unique Values: 52\n",
      "Feature: 시술 시기 코드, Importance: 1.7433, Unique Values: 7\n",
      "Feature: 저장된 배아 수, Importance: 1.6360, Unique Values: 41\n"
     ]
    },
    {
     "name": "stderr",
     "output_type": "stream",
     "text": [
      "[W 2025-02-27 07:34:30,141] Trial 32 failed with parameters: {'learning_rate': 0.02773419675940707, 'depth': 8, 'n_estimators': 1592, 'class_weights': 2.0, 'l2_leaf_reg': 5, 'bagging_temperature': 0.942118089768043} because of the following error: KeyboardInterrupt('').\n",
      "Traceback (most recent call last):\n",
      "  File \"c:\\Users\\HY\\python\\lib\\site-packages\\optuna\\study\\_optimize.py\", line 200, in _run_trial\n",
      "    value_or_values = func(trial)\n",
      "  File \"C:\\Users\\HY\\AppData\\Local\\Temp\\ipykernel_18304\\340033968.py\", line 14, in objective\n",
      "    roc_auc_score = CAT(params, seed)\n",
      "  File \"C:\\Users\\HY\\AppData\\Local\\Temp\\ipykernel_18304\\1047224734.py\", line 17, in CAT\n",
      "    model.fit(X_train, y_train)\n",
      "  File \"c:\\Users\\HY\\python\\lib\\site-packages\\catboost\\core.py\", line 5201, in fit\n",
      "    self._fit(X, y, cat_features, text_features, embedding_features, None, sample_weight, None, None, None, None, baseline, use_best_model,\n",
      "  File \"c:\\Users\\HY\\python\\lib\\site-packages\\catboost\\core.py\", line 2396, in _fit\n",
      "    self._train(\n",
      "  File \"c:\\Users\\HY\\python\\lib\\site-packages\\catboost\\core.py\", line 1776, in _train\n",
      "    self._object._train(train_pool, test_pool, params, allow_clear_pool, init_model._object if init_model else None)\n",
      "  File \"_catboost.pyx\", line 4833, in _catboost._CatBoost._train\n",
      "  File \"_catboost.pyx\", line 4882, in _catboost._CatBoost._train\n",
      "KeyboardInterrupt\n",
      "[W 2025-02-27 07:34:30,144] Trial 32 failed with value None.\n"
     ]
    },
    {
     "ename": "KeyboardInterrupt",
     "evalue": "",
     "output_type": "error",
     "traceback": [
      "\u001b[1;31m---------------------------------------------------------------------------\u001b[0m",
      "\u001b[1;31mKeyboardInterrupt\u001b[0m                         Traceback (most recent call last)",
      "Cell \u001b[1;32mIn[63], line 20\u001b[0m\n\u001b[0;32m     16\u001b[0m     \u001b[38;5;28;01mreturn\u001b[39;00m roc_auc_score\n\u001b[0;32m     19\u001b[0m study \u001b[38;5;241m=\u001b[39m optuna\u001b[38;5;241m.\u001b[39mcreate_study(direction\u001b[38;5;241m=\u001b[39m\u001b[38;5;124m\"\u001b[39m\u001b[38;5;124mmaximize\u001b[39m\u001b[38;5;124m\"\u001b[39m)\n\u001b[1;32m---> 20\u001b[0m \u001b[43mstudy\u001b[49m\u001b[38;5;241;43m.\u001b[39;49m\u001b[43moptimize\u001b[49m\u001b[43m(\u001b[49m\u001b[43mobjective\u001b[49m\u001b[43m,\u001b[49m\u001b[43m \u001b[49m\u001b[43mn_trials\u001b[49m\u001b[38;5;241;43m=\u001b[39;49m\u001b[38;5;241;43m50\u001b[39;49m\u001b[43m)\u001b[49m\n\u001b[0;32m     22\u001b[0m \u001b[38;5;28mprint\u001b[39m(\u001b[38;5;124m\"\u001b[39m\u001b[38;5;124mBest parameters found: \u001b[39m\u001b[38;5;124m\"\u001b[39m, study\u001b[38;5;241m.\u001b[39mbest_params)\n",
      "File \u001b[1;32mc:\\Users\\HY\\python\\lib\\site-packages\\optuna\\study\\study.py:451\u001b[0m, in \u001b[0;36mStudy.optimize\u001b[1;34m(self, func, n_trials, timeout, n_jobs, catch, callbacks, gc_after_trial, show_progress_bar)\u001b[0m\n\u001b[0;32m    348\u001b[0m \u001b[38;5;28;01mdef\u001b[39;00m \u001b[38;5;21moptimize\u001b[39m(\n\u001b[0;32m    349\u001b[0m     \u001b[38;5;28mself\u001b[39m,\n\u001b[0;32m    350\u001b[0m     func: ObjectiveFuncType,\n\u001b[1;32m   (...)\u001b[0m\n\u001b[0;32m    357\u001b[0m     show_progress_bar: \u001b[38;5;28mbool\u001b[39m \u001b[38;5;241m=\u001b[39m \u001b[38;5;28;01mFalse\u001b[39;00m,\n\u001b[0;32m    358\u001b[0m ) \u001b[38;5;241m-\u001b[39m\u001b[38;5;241m>\u001b[39m \u001b[38;5;28;01mNone\u001b[39;00m:\n\u001b[0;32m    359\u001b[0m \u001b[38;5;250m    \u001b[39m\u001b[38;5;124;03m\"\"\"Optimize an objective function.\u001b[39;00m\n\u001b[0;32m    360\u001b[0m \n\u001b[0;32m    361\u001b[0m \u001b[38;5;124;03m    Optimization is done by choosing a suitable set of hyperparameter values from a given\u001b[39;00m\n\u001b[1;32m   (...)\u001b[0m\n\u001b[0;32m    449\u001b[0m \u001b[38;5;124;03m            If nested invocation of this method occurs.\u001b[39;00m\n\u001b[0;32m    450\u001b[0m \u001b[38;5;124;03m    \"\"\"\u001b[39;00m\n\u001b[1;32m--> 451\u001b[0m     \u001b[43m_optimize\u001b[49m\u001b[43m(\u001b[49m\n\u001b[0;32m    452\u001b[0m \u001b[43m        \u001b[49m\u001b[43mstudy\u001b[49m\u001b[38;5;241;43m=\u001b[39;49m\u001b[38;5;28;43mself\u001b[39;49m\u001b[43m,\u001b[49m\n\u001b[0;32m    453\u001b[0m \u001b[43m        \u001b[49m\u001b[43mfunc\u001b[49m\u001b[38;5;241;43m=\u001b[39;49m\u001b[43mfunc\u001b[49m\u001b[43m,\u001b[49m\n\u001b[0;32m    454\u001b[0m \u001b[43m        \u001b[49m\u001b[43mn_trials\u001b[49m\u001b[38;5;241;43m=\u001b[39;49m\u001b[43mn_trials\u001b[49m\u001b[43m,\u001b[49m\n\u001b[0;32m    455\u001b[0m \u001b[43m        \u001b[49m\u001b[43mtimeout\u001b[49m\u001b[38;5;241;43m=\u001b[39;49m\u001b[43mtimeout\u001b[49m\u001b[43m,\u001b[49m\n\u001b[0;32m    456\u001b[0m \u001b[43m        \u001b[49m\u001b[43mn_jobs\u001b[49m\u001b[38;5;241;43m=\u001b[39;49m\u001b[43mn_jobs\u001b[49m\u001b[43m,\u001b[49m\n\u001b[0;32m    457\u001b[0m \u001b[43m        \u001b[49m\u001b[43mcatch\u001b[49m\u001b[38;5;241;43m=\u001b[39;49m\u001b[38;5;28;43mtuple\u001b[39;49m\u001b[43m(\u001b[49m\u001b[43mcatch\u001b[49m\u001b[43m)\u001b[49m\u001b[43m \u001b[49m\u001b[38;5;28;43;01mif\u001b[39;49;00m\u001b[43m \u001b[49m\u001b[38;5;28;43misinstance\u001b[39;49m\u001b[43m(\u001b[49m\u001b[43mcatch\u001b[49m\u001b[43m,\u001b[49m\u001b[43m \u001b[49m\u001b[43mIterable\u001b[49m\u001b[43m)\u001b[49m\u001b[43m \u001b[49m\u001b[38;5;28;43;01melse\u001b[39;49;00m\u001b[43m \u001b[49m\u001b[43m(\u001b[49m\u001b[43mcatch\u001b[49m\u001b[43m,\u001b[49m\u001b[43m)\u001b[49m\u001b[43m,\u001b[49m\n\u001b[0;32m    458\u001b[0m \u001b[43m        \u001b[49m\u001b[43mcallbacks\u001b[49m\u001b[38;5;241;43m=\u001b[39;49m\u001b[43mcallbacks\u001b[49m\u001b[43m,\u001b[49m\n\u001b[0;32m    459\u001b[0m \u001b[43m        \u001b[49m\u001b[43mgc_after_trial\u001b[49m\u001b[38;5;241;43m=\u001b[39;49m\u001b[43mgc_after_trial\u001b[49m\u001b[43m,\u001b[49m\n\u001b[0;32m    460\u001b[0m \u001b[43m        \u001b[49m\u001b[43mshow_progress_bar\u001b[49m\u001b[38;5;241;43m=\u001b[39;49m\u001b[43mshow_progress_bar\u001b[49m\u001b[43m,\u001b[49m\n\u001b[0;32m    461\u001b[0m \u001b[43m    \u001b[49m\u001b[43m)\u001b[49m\n",
      "File \u001b[1;32mc:\\Users\\HY\\python\\lib\\site-packages\\optuna\\study\\_optimize.py:66\u001b[0m, in \u001b[0;36m_optimize\u001b[1;34m(study, func, n_trials, timeout, n_jobs, catch, callbacks, gc_after_trial, show_progress_bar)\u001b[0m\n\u001b[0;32m     64\u001b[0m \u001b[38;5;28;01mtry\u001b[39;00m:\n\u001b[0;32m     65\u001b[0m     \u001b[38;5;28;01mif\u001b[39;00m n_jobs \u001b[38;5;241m==\u001b[39m \u001b[38;5;241m1\u001b[39m:\n\u001b[1;32m---> 66\u001b[0m         \u001b[43m_optimize_sequential\u001b[49m\u001b[43m(\u001b[49m\n\u001b[0;32m     67\u001b[0m \u001b[43m            \u001b[49m\u001b[43mstudy\u001b[49m\u001b[43m,\u001b[49m\n\u001b[0;32m     68\u001b[0m \u001b[43m            \u001b[49m\u001b[43mfunc\u001b[49m\u001b[43m,\u001b[49m\n\u001b[0;32m     69\u001b[0m \u001b[43m            \u001b[49m\u001b[43mn_trials\u001b[49m\u001b[43m,\u001b[49m\n\u001b[0;32m     70\u001b[0m \u001b[43m            \u001b[49m\u001b[43mtimeout\u001b[49m\u001b[43m,\u001b[49m\n\u001b[0;32m     71\u001b[0m \u001b[43m            \u001b[49m\u001b[43mcatch\u001b[49m\u001b[43m,\u001b[49m\n\u001b[0;32m     72\u001b[0m \u001b[43m            \u001b[49m\u001b[43mcallbacks\u001b[49m\u001b[43m,\u001b[49m\n\u001b[0;32m     73\u001b[0m \u001b[43m            \u001b[49m\u001b[43mgc_after_trial\u001b[49m\u001b[43m,\u001b[49m\n\u001b[0;32m     74\u001b[0m \u001b[43m            \u001b[49m\u001b[43mreseed_sampler_rng\u001b[49m\u001b[38;5;241;43m=\u001b[39;49m\u001b[38;5;28;43;01mFalse\u001b[39;49;00m\u001b[43m,\u001b[49m\n\u001b[0;32m     75\u001b[0m \u001b[43m            \u001b[49m\u001b[43mtime_start\u001b[49m\u001b[38;5;241;43m=\u001b[39;49m\u001b[38;5;28;43;01mNone\u001b[39;49;00m\u001b[43m,\u001b[49m\n\u001b[0;32m     76\u001b[0m \u001b[43m            \u001b[49m\u001b[43mprogress_bar\u001b[49m\u001b[38;5;241;43m=\u001b[39;49m\u001b[43mprogress_bar\u001b[49m\u001b[43m,\u001b[49m\n\u001b[0;32m     77\u001b[0m \u001b[43m        \u001b[49m\u001b[43m)\u001b[49m\n\u001b[0;32m     78\u001b[0m     \u001b[38;5;28;01melse\u001b[39;00m:\n\u001b[0;32m     79\u001b[0m         \u001b[38;5;28;01mif\u001b[39;00m n_jobs \u001b[38;5;241m==\u001b[39m \u001b[38;5;241m-\u001b[39m\u001b[38;5;241m1\u001b[39m:\n",
      "File \u001b[1;32mc:\\Users\\HY\\python\\lib\\site-packages\\optuna\\study\\_optimize.py:163\u001b[0m, in \u001b[0;36m_optimize_sequential\u001b[1;34m(study, func, n_trials, timeout, catch, callbacks, gc_after_trial, reseed_sampler_rng, time_start, progress_bar)\u001b[0m\n\u001b[0;32m    160\u001b[0m         \u001b[38;5;28;01mbreak\u001b[39;00m\n\u001b[0;32m    162\u001b[0m \u001b[38;5;28;01mtry\u001b[39;00m:\n\u001b[1;32m--> 163\u001b[0m     frozen_trial \u001b[38;5;241m=\u001b[39m \u001b[43m_run_trial\u001b[49m\u001b[43m(\u001b[49m\u001b[43mstudy\u001b[49m\u001b[43m,\u001b[49m\u001b[43m \u001b[49m\u001b[43mfunc\u001b[49m\u001b[43m,\u001b[49m\u001b[43m \u001b[49m\u001b[43mcatch\u001b[49m\u001b[43m)\u001b[49m\n\u001b[0;32m    164\u001b[0m \u001b[38;5;28;01mfinally\u001b[39;00m:\n\u001b[0;32m    165\u001b[0m     \u001b[38;5;66;03m# The following line mitigates memory problems that can be occurred in some\u001b[39;00m\n\u001b[0;32m    166\u001b[0m     \u001b[38;5;66;03m# environments (e.g., services that use computing containers such as GitHub Actions).\u001b[39;00m\n\u001b[0;32m    167\u001b[0m     \u001b[38;5;66;03m# Please refer to the following PR for further details:\u001b[39;00m\n\u001b[0;32m    168\u001b[0m     \u001b[38;5;66;03m# https://github.com/optuna/optuna/pull/325.\u001b[39;00m\n\u001b[0;32m    169\u001b[0m     \u001b[38;5;28;01mif\u001b[39;00m gc_after_trial:\n",
      "File \u001b[1;32mc:\\Users\\HY\\python\\lib\\site-packages\\optuna\\study\\_optimize.py:251\u001b[0m, in \u001b[0;36m_run_trial\u001b[1;34m(study, func, catch)\u001b[0m\n\u001b[0;32m    244\u001b[0m         \u001b[38;5;28;01massert\u001b[39;00m \u001b[38;5;28;01mFalse\u001b[39;00m, \u001b[38;5;124m\"\u001b[39m\u001b[38;5;124mShould not reach.\u001b[39m\u001b[38;5;124m\"\u001b[39m\n\u001b[0;32m    246\u001b[0m \u001b[38;5;28;01mif\u001b[39;00m (\n\u001b[0;32m    247\u001b[0m     frozen_trial\u001b[38;5;241m.\u001b[39mstate \u001b[38;5;241m==\u001b[39m TrialState\u001b[38;5;241m.\u001b[39mFAIL\n\u001b[0;32m    248\u001b[0m     \u001b[38;5;129;01mand\u001b[39;00m func_err \u001b[38;5;129;01mis\u001b[39;00m \u001b[38;5;129;01mnot\u001b[39;00m \u001b[38;5;28;01mNone\u001b[39;00m\n\u001b[0;32m    249\u001b[0m     \u001b[38;5;129;01mand\u001b[39;00m \u001b[38;5;129;01mnot\u001b[39;00m \u001b[38;5;28misinstance\u001b[39m(func_err, catch)\n\u001b[0;32m    250\u001b[0m ):\n\u001b[1;32m--> 251\u001b[0m     \u001b[38;5;28;01mraise\u001b[39;00m func_err\n\u001b[0;32m    252\u001b[0m \u001b[38;5;28;01mreturn\u001b[39;00m frozen_trial\n",
      "File \u001b[1;32mc:\\Users\\HY\\python\\lib\\site-packages\\optuna\\study\\_optimize.py:200\u001b[0m, in \u001b[0;36m_run_trial\u001b[1;34m(study, func, catch)\u001b[0m\n\u001b[0;32m    198\u001b[0m \u001b[38;5;28;01mwith\u001b[39;00m get_heartbeat_thread(trial\u001b[38;5;241m.\u001b[39m_trial_id, study\u001b[38;5;241m.\u001b[39m_storage):\n\u001b[0;32m    199\u001b[0m     \u001b[38;5;28;01mtry\u001b[39;00m:\n\u001b[1;32m--> 200\u001b[0m         value_or_values \u001b[38;5;241m=\u001b[39m \u001b[43mfunc\u001b[49m\u001b[43m(\u001b[49m\u001b[43mtrial\u001b[49m\u001b[43m)\u001b[49m\n\u001b[0;32m    201\u001b[0m     \u001b[38;5;28;01mexcept\u001b[39;00m exceptions\u001b[38;5;241m.\u001b[39mTrialPruned \u001b[38;5;28;01mas\u001b[39;00m e:\n\u001b[0;32m    202\u001b[0m         \u001b[38;5;66;03m# TODO(mamu): Handle multi-objective cases.\u001b[39;00m\n\u001b[0;32m    203\u001b[0m         state \u001b[38;5;241m=\u001b[39m TrialState\u001b[38;5;241m.\u001b[39mPRUNED\n",
      "Cell \u001b[1;32mIn[63], line 14\u001b[0m, in \u001b[0;36mobjective\u001b[1;34m(trial)\u001b[0m\n\u001b[0;32m     11\u001b[0m \u001b[38;5;66;03m# 시드 설정\u001b[39;00m\n\u001b[0;32m     12\u001b[0m seed \u001b[38;5;241m=\u001b[39m \u001b[38;5;241m2468\u001b[39m\n\u001b[1;32m---> 14\u001b[0m roc_auc_score \u001b[38;5;241m=\u001b[39m \u001b[43mCAT\u001b[49m\u001b[43m(\u001b[49m\u001b[43mparams\u001b[49m\u001b[43m,\u001b[49m\u001b[43m \u001b[49m\u001b[43mseed\u001b[49m\u001b[43m)\u001b[49m\n\u001b[0;32m     16\u001b[0m \u001b[38;5;28;01mreturn\u001b[39;00m roc_auc_score\n",
      "Cell \u001b[1;32mIn[60], line 17\u001b[0m, in \u001b[0;36mCAT\u001b[1;34m(params, seed)\u001b[0m\n\u001b[0;32m      9\u001b[0m model \u001b[38;5;241m=\u001b[39m CatBoostClassifier(\n\u001b[0;32m     10\u001b[0m     \u001b[38;5;241m*\u001b[39m\u001b[38;5;241m*\u001b[39mparams,\n\u001b[0;32m     11\u001b[0m     random_state\u001b[38;5;241m=\u001b[39m\u001b[38;5;241m77\u001b[39m,\n\u001b[1;32m   (...)\u001b[0m\n\u001b[0;32m     14\u001b[0m     early_stopping_rounds\u001b[38;5;241m=\u001b[39m\u001b[38;5;241m150\u001b[39m,\n\u001b[0;32m     15\u001b[0m )\n\u001b[0;32m     16\u001b[0m \u001b[38;5;66;03m# 최종 검증 데이터셋에서 모델 성능 평가\u001b[39;00m\n\u001b[1;32m---> 17\u001b[0m \u001b[43mmodel\u001b[49m\u001b[38;5;241;43m.\u001b[39;49m\u001b[43mfit\u001b[49m\u001b[43m(\u001b[49m\u001b[43mX_train\u001b[49m\u001b[43m,\u001b[49m\u001b[43m \u001b[49m\u001b[43my_train\u001b[49m\u001b[43m)\u001b[49m\n\u001b[0;32m     18\u001b[0m y_pred_probs \u001b[38;5;241m=\u001b[39m model\u001b[38;5;241m.\u001b[39mpredict_proba(X_val)[:, \u001b[38;5;241m1\u001b[39m]\n\u001b[0;32m     19\u001b[0m y_pred_final \u001b[38;5;241m=\u001b[39m model\u001b[38;5;241m.\u001b[39mpredict(X_val)\n",
      "File \u001b[1;32mc:\\Users\\HY\\python\\lib\\site-packages\\catboost\\core.py:5201\u001b[0m, in \u001b[0;36mCatBoostClassifier.fit\u001b[1;34m(self, X, y, cat_features, text_features, embedding_features, sample_weight, baseline, use_best_model, eval_set, verbose, logging_level, plot, plot_file, column_description, verbose_eval, metric_period, silent, early_stopping_rounds, save_snapshot, snapshot_file, snapshot_interval, init_model, callbacks, log_cout, log_cerr)\u001b[0m\n\u001b[0;32m   5198\u001b[0m \u001b[38;5;28;01mif\u001b[39;00m \u001b[38;5;124m'\u001b[39m\u001b[38;5;124mloss_function\u001b[39m\u001b[38;5;124m'\u001b[39m \u001b[38;5;129;01min\u001b[39;00m params:\n\u001b[0;32m   5199\u001b[0m     CatBoostClassifier\u001b[38;5;241m.\u001b[39m_check_is_compatible_loss(params[\u001b[38;5;124m'\u001b[39m\u001b[38;5;124mloss_function\u001b[39m\u001b[38;5;124m'\u001b[39m])\n\u001b[1;32m-> 5201\u001b[0m \u001b[38;5;28;43mself\u001b[39;49m\u001b[38;5;241;43m.\u001b[39;49m\u001b[43m_fit\u001b[49m\u001b[43m(\u001b[49m\u001b[43mX\u001b[49m\u001b[43m,\u001b[49m\u001b[43m \u001b[49m\u001b[43my\u001b[49m\u001b[43m,\u001b[49m\u001b[43m \u001b[49m\u001b[43mcat_features\u001b[49m\u001b[43m,\u001b[49m\u001b[43m \u001b[49m\u001b[43mtext_features\u001b[49m\u001b[43m,\u001b[49m\u001b[43m \u001b[49m\u001b[43membedding_features\u001b[49m\u001b[43m,\u001b[49m\u001b[43m \u001b[49m\u001b[38;5;28;43;01mNone\u001b[39;49;00m\u001b[43m,\u001b[49m\u001b[43m \u001b[49m\u001b[43msample_weight\u001b[49m\u001b[43m,\u001b[49m\u001b[43m \u001b[49m\u001b[38;5;28;43;01mNone\u001b[39;49;00m\u001b[43m,\u001b[49m\u001b[43m \u001b[49m\u001b[38;5;28;43;01mNone\u001b[39;49;00m\u001b[43m,\u001b[49m\u001b[43m \u001b[49m\u001b[38;5;28;43;01mNone\u001b[39;49;00m\u001b[43m,\u001b[49m\u001b[43m \u001b[49m\u001b[38;5;28;43;01mNone\u001b[39;49;00m\u001b[43m,\u001b[49m\u001b[43m \u001b[49m\u001b[43mbaseline\u001b[49m\u001b[43m,\u001b[49m\u001b[43m \u001b[49m\u001b[43muse_best_model\u001b[49m\u001b[43m,\u001b[49m\n\u001b[0;32m   5202\u001b[0m \u001b[43m          \u001b[49m\u001b[43meval_set\u001b[49m\u001b[43m,\u001b[49m\u001b[43m \u001b[49m\u001b[43mverbose\u001b[49m\u001b[43m,\u001b[49m\u001b[43m \u001b[49m\u001b[43mlogging_level\u001b[49m\u001b[43m,\u001b[49m\u001b[43m \u001b[49m\u001b[43mplot\u001b[49m\u001b[43m,\u001b[49m\u001b[43m \u001b[49m\u001b[43mplot_file\u001b[49m\u001b[43m,\u001b[49m\u001b[43m \u001b[49m\u001b[43mcolumn_description\u001b[49m\u001b[43m,\u001b[49m\u001b[43m \u001b[49m\u001b[43mverbose_eval\u001b[49m\u001b[43m,\u001b[49m\u001b[43m \u001b[49m\u001b[43mmetric_period\u001b[49m\u001b[43m,\u001b[49m\n\u001b[0;32m   5203\u001b[0m \u001b[43m          \u001b[49m\u001b[43msilent\u001b[49m\u001b[43m,\u001b[49m\u001b[43m \u001b[49m\u001b[43mearly_stopping_rounds\u001b[49m\u001b[43m,\u001b[49m\u001b[43m \u001b[49m\u001b[43msave_snapshot\u001b[49m\u001b[43m,\u001b[49m\u001b[43m \u001b[49m\u001b[43msnapshot_file\u001b[49m\u001b[43m,\u001b[49m\u001b[43m \u001b[49m\u001b[43msnapshot_interval\u001b[49m\u001b[43m,\u001b[49m\u001b[43m \u001b[49m\u001b[43minit_model\u001b[49m\u001b[43m,\u001b[49m\u001b[43m \u001b[49m\u001b[43mcallbacks\u001b[49m\u001b[43m,\u001b[49m\u001b[43m \u001b[49m\u001b[43mlog_cout\u001b[49m\u001b[43m,\u001b[49m\u001b[43m \u001b[49m\u001b[43mlog_cerr\u001b[49m\u001b[43m)\u001b[49m\n\u001b[0;32m   5204\u001b[0m \u001b[38;5;28;01mreturn\u001b[39;00m \u001b[38;5;28mself\u001b[39m\n",
      "File \u001b[1;32mc:\\Users\\HY\\python\\lib\\site-packages\\catboost\\core.py:2396\u001b[0m, in \u001b[0;36mCatBoost._fit\u001b[1;34m(self, X, y, cat_features, text_features, embedding_features, pairs, sample_weight, group_id, group_weight, subgroup_id, pairs_weight, baseline, use_best_model, eval_set, verbose, logging_level, plot, plot_file, column_description, verbose_eval, metric_period, silent, early_stopping_rounds, save_snapshot, snapshot_file, snapshot_interval, init_model, callbacks, log_cout, log_cerr)\u001b[0m\n\u001b[0;32m   2393\u001b[0m allow_clear_pool \u001b[38;5;241m=\u001b[39m train_params[\u001b[38;5;124m\"\u001b[39m\u001b[38;5;124mallow_clear_pool\u001b[39m\u001b[38;5;124m\"\u001b[39m]\n\u001b[0;32m   2395\u001b[0m \u001b[38;5;28;01mwith\u001b[39;00m plot_wrapper(plot, plot_file, \u001b[38;5;124m'\u001b[39m\u001b[38;5;124mTraining plots\u001b[39m\u001b[38;5;124m'\u001b[39m, [_get_train_dir(\u001b[38;5;28mself\u001b[39m\u001b[38;5;241m.\u001b[39mget_params())]):\n\u001b[1;32m-> 2396\u001b[0m     \u001b[38;5;28;43mself\u001b[39;49m\u001b[38;5;241;43m.\u001b[39;49m\u001b[43m_train\u001b[49m\u001b[43m(\u001b[49m\n\u001b[0;32m   2397\u001b[0m \u001b[43m        \u001b[49m\u001b[43mtrain_pool\u001b[49m\u001b[43m,\u001b[49m\n\u001b[0;32m   2398\u001b[0m \u001b[43m        \u001b[49m\u001b[43mtrain_params\u001b[49m\u001b[43m[\u001b[49m\u001b[38;5;124;43m\"\u001b[39;49m\u001b[38;5;124;43meval_sets\u001b[39;49m\u001b[38;5;124;43m\"\u001b[39;49m\u001b[43m]\u001b[49m\u001b[43m,\u001b[49m\n\u001b[0;32m   2399\u001b[0m \u001b[43m        \u001b[49m\u001b[43mparams\u001b[49m\u001b[43m,\u001b[49m\n\u001b[0;32m   2400\u001b[0m \u001b[43m        \u001b[49m\u001b[43mallow_clear_pool\u001b[49m\u001b[43m,\u001b[49m\n\u001b[0;32m   2401\u001b[0m \u001b[43m        \u001b[49m\u001b[43mtrain_params\u001b[49m\u001b[43m[\u001b[49m\u001b[38;5;124;43m\"\u001b[39;49m\u001b[38;5;124;43minit_model\u001b[39;49m\u001b[38;5;124;43m\"\u001b[39;49m\u001b[43m]\u001b[49m\n\u001b[0;32m   2402\u001b[0m \u001b[43m    \u001b[49m\u001b[43m)\u001b[49m\n\u001b[0;32m   2404\u001b[0m \u001b[38;5;66;03m# Have property feature_importance possibly set\u001b[39;00m\n\u001b[0;32m   2405\u001b[0m loss \u001b[38;5;241m=\u001b[39m \u001b[38;5;28mself\u001b[39m\u001b[38;5;241m.\u001b[39m_object\u001b[38;5;241m.\u001b[39m_get_loss_function_name()\n",
      "File \u001b[1;32mc:\\Users\\HY\\python\\lib\\site-packages\\catboost\\core.py:1776\u001b[0m, in \u001b[0;36m_CatBoostBase._train\u001b[1;34m(self, train_pool, test_pool, params, allow_clear_pool, init_model)\u001b[0m\n\u001b[0;32m   1775\u001b[0m \u001b[38;5;28;01mdef\u001b[39;00m \u001b[38;5;21m_train\u001b[39m(\u001b[38;5;28mself\u001b[39m, train_pool, test_pool, params, allow_clear_pool, init_model):\n\u001b[1;32m-> 1776\u001b[0m     \u001b[38;5;28;43mself\u001b[39;49m\u001b[38;5;241;43m.\u001b[39;49m\u001b[43m_object\u001b[49m\u001b[38;5;241;43m.\u001b[39;49m\u001b[43m_train\u001b[49m\u001b[43m(\u001b[49m\u001b[43mtrain_pool\u001b[49m\u001b[43m,\u001b[49m\u001b[43m \u001b[49m\u001b[43mtest_pool\u001b[49m\u001b[43m,\u001b[49m\u001b[43m \u001b[49m\u001b[43mparams\u001b[49m\u001b[43m,\u001b[49m\u001b[43m \u001b[49m\u001b[43mallow_clear_pool\u001b[49m\u001b[43m,\u001b[49m\u001b[43m \u001b[49m\u001b[43minit_model\u001b[49m\u001b[38;5;241;43m.\u001b[39;49m\u001b[43m_object\u001b[49m\u001b[43m \u001b[49m\u001b[38;5;28;43;01mif\u001b[39;49;00m\u001b[43m \u001b[49m\u001b[43minit_model\u001b[49m\u001b[43m \u001b[49m\u001b[38;5;28;43;01melse\u001b[39;49;00m\u001b[43m \u001b[49m\u001b[38;5;28;43;01mNone\u001b[39;49;00m\u001b[43m)\u001b[49m\n\u001b[0;32m   1777\u001b[0m     \u001b[38;5;28mself\u001b[39m\u001b[38;5;241m.\u001b[39m_set_trained_model_attributes()\n",
      "File \u001b[1;32m_catboost.pyx:4833\u001b[0m, in \u001b[0;36m_catboost._CatBoost._train\u001b[1;34m()\u001b[0m\n",
      "File \u001b[1;32m_catboost.pyx:4882\u001b[0m, in \u001b[0;36m_catboost._CatBoost._train\u001b[1;34m()\u001b[0m\n",
      "\u001b[1;31mKeyboardInterrupt\u001b[0m: "
     ]
    }
   ],
   "source": [
    "def objective(trial):\n",
    "    params = {\n",
    "        \"learning_rate\": trial.suggest_float(\"learning_rate\", 0.01, 0.1, log=True),\n",
    "        \"depth\": trial.suggest_int(\"depth\", 4, 9),\n",
    "        \"n_estimators\": trial.suggest_int(\"n_estimators\", 500, 1800),\n",
    "        \"class_weights\": [1, trial.suggest_float(\"class_weights\", 1.5, 2, step=0.1)],\n",
    "        \"l2_leaf_reg\": trial.suggest_int(\"l2_leaf_reg\", 3, 10),\n",
    "        \"bagging_temperature\": trial.suggest_float(\"bagging_temperature\", 0.0, 1.5)\n",
    "    }\n",
    "\n",
    "    # 시드 설정\n",
    "    seed = 2468\n",
    "\n",
    "    roc_auc_score = CAT(params, seed)\n",
    "\n",
    "    return roc_auc_score\n",
    "\n",
    "\n",
    "study = optuna.create_study(direction=\"maximize\")\n",
    "study.optimize(objective, n_trials=50)\n",
    "\n",
    "print(\"Best parameters found: \", study.best_params)"
   ]
  },
  {
   "cell_type": "code",
   "execution_count": null,
   "metadata": {},
   "outputs": [],
   "source": [
    "# Accuracy: 0.6934\n",
    "# Precision: 0.4308\n",
    "# Recall: 0.5811\n",
    "# F1 Score: 0.4948\n",
    "# ROC-AUC Score: 0.7416\n",
    "\n",
    "# Confusion Matrix:\n",
    "# [[41779 15258]\n",
    "#  [ 8323 11546]]\n",
    "# [I 2025-02-27 02:18:50,049] Trial 3 finished with value: 0.7415804876147438 and parameters: {'learning_rate': 0.015965490084583357, 'depth': 7, 'n_estimators': 1785, 'class_weights': 2.0, 'l2_leaf_reg': 3, 'bagging_temperature': 1.0763333206193686}. Best is trial 1 with value: 0.7415924318310919.\n",
    "\n",
    "# Top 10 Feature Importances:\n",
    "# Feature: 이식된 배아 수, Importance: 37.6440, Unique Values: 4\n",
    "# Feature: 배아 이식 경과일, Importance: 19.5431, Unique Values: 9\n",
    "# Feature: 시술 당시 나이, Importance: 6.0880, Unique Values: 7\n",
    "# Feature: 총 생성 배아 수, Importance: 3.8502, Unique Values: 44\n",
    "# Feature: 난자 채취 경과일, Importance: 3.8048, Unique Values: 1\n",
    "# Feature: 배아_저장_비율, Importance: 3.6578, Unique Values: 305\n",
    "# Feature: 난자 출처, Importance: 2.7129, Unique Values: 3\n",
    "# Feature: 단일 배아 이식 여부, Importance: 1.9142, Unique Values: 3\n",
    "# Feature: 저장된 배아 수, Importance: 1.8152, Unique Values: 41\n",
    "# Feature: 수집된 신선 난자 수, Importance: 1.7614, Unique Values: 52"
   ]
  },
  {
   "cell_type": "code",
   "execution_count": 64,
   "metadata": {},
   "outputs": [],
   "source": [
    "best_params = {'learning_rate': 0.015965490084583357, 'depth': 7, 'n_estimators': 1785, 'class_weights': [1, 2.0], 'l2_leaf_reg': 3, 'bagging_temperature': 1.0763333206193686}"
   ]
  },
  {
   "cell_type": "code",
   "execution_count": 65,
   "metadata": {},
   "outputs": [
    {
     "data": {
      "text/plain": [
       "<catboost.core.CatBoostClassifier at 0x2969622f130>"
      ]
     },
     "execution_count": 65,
     "metadata": {},
     "output_type": "execute_result"
    }
   ],
   "source": [
    "final_model = CatBoostClassifier(**best_params)\n",
    "final_model.fit(X, y, cat_features=categorical_cols, verbose=0)"
   ]
  },
  {
   "cell_type": "code",
   "execution_count": 2,
   "metadata": {},
   "outputs": [
    {
     "ename": "NameError",
     "evalue": "name 'final_model' is not defined",
     "output_type": "error",
     "traceback": [
      "\u001b[1;31m---------------------------------------------------------------------------\u001b[0m",
      "\u001b[1;31mNameError\u001b[0m                                 Traceback (most recent call last)",
      "Cell \u001b[1;32mIn[2], line 1\u001b[0m\n\u001b[1;32m----> 1\u001b[0m pred_proba \u001b[38;5;241m=\u001b[39m \u001b[43mfinal_model\u001b[49m\u001b[38;5;241m.\u001b[39mpredict_proba(test_data)[:, \u001b[38;5;241m1\u001b[39m]\n\u001b[0;32m      2\u001b[0m pred_proba\n",
      "\u001b[1;31mNameError\u001b[0m: name 'final_model' is not defined"
     ]
    }
   ],
   "source": [
    "pred_proba = final_model.predict_proba(test_data)[:, 1]\n",
    "pred_proba"
   ]
  },
  {
   "cell_type": "code",
   "execution_count": 67,
   "metadata": {},
   "outputs": [],
   "source": [
    "sample_submission = pd.read_csv('dataset/sample_submission.csv')\n",
    "sample_submission['probability'] = pred_proba"
   ]
  },
  {
   "cell_type": "code",
   "execution_count": 68,
   "metadata": {},
   "outputs": [
    {
     "data": {
      "text/html": [
       "<div>\n",
       "<style scoped>\n",
       "    .dataframe tbody tr th:only-of-type {\n",
       "        vertical-align: middle;\n",
       "    }\n",
       "\n",
       "    .dataframe tbody tr th {\n",
       "        vertical-align: top;\n",
       "    }\n",
       "\n",
       "    .dataframe thead th {\n",
       "        text-align: right;\n",
       "    }\n",
       "</style>\n",
       "<table border=\"1\" class=\"dataframe\">\n",
       "  <thead>\n",
       "    <tr style=\"text-align: right;\">\n",
       "      <th></th>\n",
       "      <th>ID</th>\n",
       "      <th>probability</th>\n",
       "    </tr>\n",
       "  </thead>\n",
       "  <tbody>\n",
       "    <tr>\n",
       "      <th>0</th>\n",
       "      <td>TEST_00000</td>\n",
       "      <td>0.003469</td>\n",
       "    </tr>\n",
       "    <tr>\n",
       "      <th>1</th>\n",
       "      <td>TEST_00001</td>\n",
       "      <td>0.009967</td>\n",
       "    </tr>\n",
       "    <tr>\n",
       "      <th>2</th>\n",
       "      <td>TEST_00002</td>\n",
       "      <td>0.270283</td>\n",
       "    </tr>\n",
       "    <tr>\n",
       "      <th>3</th>\n",
       "      <td>TEST_00003</td>\n",
       "      <td>0.196649</td>\n",
       "    </tr>\n",
       "    <tr>\n",
       "      <th>4</th>\n",
       "      <td>TEST_00004</td>\n",
       "      <td>0.678193</td>\n",
       "    </tr>\n",
       "    <tr>\n",
       "      <th>...</th>\n",
       "      <td>...</td>\n",
       "      <td>...</td>\n",
       "    </tr>\n",
       "    <tr>\n",
       "      <th>90062</th>\n",
       "      <td>TEST_90062</td>\n",
       "      <td>0.003496</td>\n",
       "    </tr>\n",
       "    <tr>\n",
       "      <th>90063</th>\n",
       "      <td>TEST_90063</td>\n",
       "      <td>0.496904</td>\n",
       "    </tr>\n",
       "    <tr>\n",
       "      <th>90064</th>\n",
       "      <td>TEST_90064</td>\n",
       "      <td>0.589535</td>\n",
       "    </tr>\n",
       "    <tr>\n",
       "      <th>90065</th>\n",
       "      <td>TEST_90065</td>\n",
       "      <td>0.358513</td>\n",
       "    </tr>\n",
       "    <tr>\n",
       "      <th>90066</th>\n",
       "      <td>TEST_90066</td>\n",
       "      <td>0.003567</td>\n",
       "    </tr>\n",
       "  </tbody>\n",
       "</table>\n",
       "<p>90067 rows × 2 columns</p>\n",
       "</div>"
      ],
      "text/plain": [
       "               ID  probability\n",
       "0      TEST_00000     0.003469\n",
       "1      TEST_00001     0.009967\n",
       "2      TEST_00002     0.270283\n",
       "3      TEST_00003     0.196649\n",
       "4      TEST_00004     0.678193\n",
       "...           ...          ...\n",
       "90062  TEST_90062     0.003496\n",
       "90063  TEST_90063     0.496904\n",
       "90064  TEST_90064     0.589535\n",
       "90065  TEST_90065     0.358513\n",
       "90066  TEST_90066     0.003567\n",
       "\n",
       "[90067 rows x 2 columns]"
      ]
     },
     "execution_count": 68,
     "metadata": {},
     "output_type": "execute_result"
    }
   ],
   "source": [
    "sample_submission"
   ]
  },
  {
   "cell_type": "code",
   "execution_count": 69,
   "metadata": {},
   "outputs": [],
   "source": [
    "sample_submission.to_csv('submit/submit_hy_0227.csv', index=False)"
   ]
  }
 ],
 "metadata": {
  "kernelspec": {
   "display_name": "Python 3",
   "language": "python",
   "name": "python3"
  },
  "language_info": {
   "codemirror_mode": {
    "name": "ipython",
    "version": 3
   },
   "file_extension": ".py",
   "mimetype": "text/x-python",
   "name": "python",
   "nbconvert_exporter": "python",
   "pygments_lexer": "ipython3",
   "version": "3.10.0"
  }
 },
 "nbformat": 4,
 "nbformat_minor": 2
}
